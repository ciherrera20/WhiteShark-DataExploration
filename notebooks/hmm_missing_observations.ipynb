{
 "cells": [
  {
   "cell_type": "code",
   "execution_count": 32,
   "id": "a247869a",
   "metadata": {},
   "outputs": [],
   "source": [
    "import pandas as pd\n",
    "import geopandas as gpd\n",
    "from geopandas import GeoDataFrame, read_file\n",
    "from shapely.geometry import Point, LineString, Polygon\n",
    "from datetime import datetime, timedelta\n",
    "import movingpandas as mpd\n",
    "import matplotlib as mpl\n",
    "import matplotlib.pyplot as plt\n",
    "import numpy as np\n",
    "import scipy.ndimage as ndi\n",
    "# import torch\n",
    "\n",
    "import scipy\n",
    "import numpy as np\n",
    "import tensorflow.compat.v2 as tf\n",
    "tf.enable_v2_behavior()\n",
    "import tensorflow_probability as tfp\n",
    "from tensorflow_probability import distributions as tfd\n",
    "import scipy.stats"
   ]
  },
  {
   "cell_type": "code",
   "execution_count": 33,
   "id": "921f9e2c",
   "metadata": {},
   "outputs": [
    {
     "data": {
      "text/html": [
       "<div>\n",
       "<style scoped>\n",
       "    .dataframe tbody tr th:only-of-type {\n",
       "        vertical-align: middle;\n",
       "    }\n",
       "\n",
       "    .dataframe tbody tr th {\n",
       "        vertical-align: top;\n",
       "    }\n",
       "\n",
       "    .dataframe thead th {\n",
       "        text-align: right;\n",
       "    }\n",
       "</style>\n",
       "<table border=\"1\" class=\"dataframe\">\n",
       "  <thead>\n",
       "    <tr style=\"text-align: right;\">\n",
       "      <th></th>\n",
       "      <th>TRANSMITTER</th>\n",
       "      <th>DETECTEDID</th>\n",
       "      <th>DATETIME</th>\n",
       "      <th>X</th>\n",
       "      <th>Y</th>\n",
       "      <th>D</th>\n",
       "      <th>LAT</th>\n",
       "      <th>LON</th>\n",
       "      <th>n</th>\n",
       "      <th>HPE</th>\n",
       "      <th>HPEm</th>\n",
       "      <th>TEMP</th>\n",
       "      <th>DEPTH</th>\n",
       "      <th>ACCEL</th>\n",
       "      <th>DRX</th>\n",
       "      <th>URX</th>\n",
       "      <th>geometry</th>\n",
       "    </tr>\n",
       "    <tr>\n",
       "      <th>t</th>\n",
       "      <th></th>\n",
       "      <th></th>\n",
       "      <th></th>\n",
       "      <th></th>\n",
       "      <th></th>\n",
       "      <th></th>\n",
       "      <th></th>\n",
       "      <th></th>\n",
       "      <th></th>\n",
       "      <th></th>\n",
       "      <th></th>\n",
       "      <th></th>\n",
       "      <th></th>\n",
       "      <th></th>\n",
       "      <th></th>\n",
       "      <th></th>\n",
       "      <th></th>\n",
       "    </tr>\n",
       "  </thead>\n",
       "  <tbody>\n",
       "    <tr>\n",
       "      <th>2020-05-22 14:08:00</th>\n",
       "      <td>2020-13</td>\n",
       "      <td>A69-1602-8664</td>\n",
       "      <td>5/22/2020 14:08</td>\n",
       "      <td>4600.43</td>\n",
       "      <td>5936.79</td>\n",
       "      <td>5.0</td>\n",
       "      <td>34.407534</td>\n",
       "      <td>-119.553554</td>\n",
       "      <td>4</td>\n",
       "      <td>3.8</td>\n",
       "      <td>NaN</td>\n",
       "      <td>NaN</td>\n",
       "      <td>NaN</td>\n",
       "      <td>NaN</td>\n",
       "      <td>In_C Off_C Off_D OS2</td>\n",
       "      <td>In_C Off_C Off_D OS2</td>\n",
       "      <td>POINT (-119.55355 34.40753)</td>\n",
       "    </tr>\n",
       "    <tr>\n",
       "      <th>2020-05-22 14:09:00</th>\n",
       "      <td>2020-13</td>\n",
       "      <td>A69-1602-8664</td>\n",
       "      <td>5/22/2020 14:09</td>\n",
       "      <td>4599.47</td>\n",
       "      <td>5917.38</td>\n",
       "      <td>5.0</td>\n",
       "      <td>34.407359</td>\n",
       "      <td>-119.553564</td>\n",
       "      <td>6</td>\n",
       "      <td>3.4</td>\n",
       "      <td>NaN</td>\n",
       "      <td>NaN</td>\n",
       "      <td>NaN</td>\n",
       "      <td>NaN</td>\n",
       "      <td>In_B In_C Off_B Off_C OS2</td>\n",
       "      <td>In_B In_C Off_B Off_C OS2</td>\n",
       "      <td>POINT (-119.55356 34.40736)</td>\n",
       "    </tr>\n",
       "    <tr>\n",
       "      <th>2020-05-22 14:11:00</th>\n",
       "      <td>2020-13</td>\n",
       "      <td>A69-1602-8664</td>\n",
       "      <td>5/22/2020 14:11</td>\n",
       "      <td>4607.95</td>\n",
       "      <td>5920.45</td>\n",
       "      <td>5.0</td>\n",
       "      <td>34.407387</td>\n",
       "      <td>-119.553472</td>\n",
       "      <td>2</td>\n",
       "      <td>4.1</td>\n",
       "      <td>NaN</td>\n",
       "      <td>NaN</td>\n",
       "      <td>NaN</td>\n",
       "      <td>NaN</td>\n",
       "      <td>In_B In_C In_D In_E Off_A Off_B Off_C OS2</td>\n",
       "      <td>In_C Off_B Off_C OS2</td>\n",
       "      <td>POINT (-119.55347 34.40739)</td>\n",
       "    </tr>\n",
       "    <tr>\n",
       "      <th>2020-05-22 14:12:00</th>\n",
       "      <td>2020-13</td>\n",
       "      <td>A69-1602-8664</td>\n",
       "      <td>5/22/2020 14:12</td>\n",
       "      <td>4593.15</td>\n",
       "      <td>5926.50</td>\n",
       "      <td>5.0</td>\n",
       "      <td>34.407441</td>\n",
       "      <td>-119.553633</td>\n",
       "      <td>2</td>\n",
       "      <td>4.2</td>\n",
       "      <td>NaN</td>\n",
       "      <td>NaN</td>\n",
       "      <td>NaN</td>\n",
       "      <td>NaN</td>\n",
       "      <td>In_C In_D Off_D OS2</td>\n",
       "      <td>In_C In_D Off_D OS2</td>\n",
       "      <td>POINT (-119.55363 34.40744)</td>\n",
       "    </tr>\n",
       "    <tr>\n",
       "      <th>2020-05-22 14:16:00</th>\n",
       "      <td>2020-13</td>\n",
       "      <td>A69-1602-8664</td>\n",
       "      <td>5/22/2020 14:16</td>\n",
       "      <td>4600.73</td>\n",
       "      <td>5926.08</td>\n",
       "      <td>5.0</td>\n",
       "      <td>34.407437</td>\n",
       "      <td>-119.553551</td>\n",
       "      <td>9</td>\n",
       "      <td>3.3</td>\n",
       "      <td>NaN</td>\n",
       "      <td>NaN</td>\n",
       "      <td>NaN</td>\n",
       "      <td>NaN</td>\n",
       "      <td>In_B In_C In_D Off_B Off_C Off_D OS1 OS2</td>\n",
       "      <td>In_C In_D Off_B Off_C Off_D OS2</td>\n",
       "      <td>POINT (-119.55355 34.40744)</td>\n",
       "    </tr>\n",
       "  </tbody>\n",
       "</table>\n",
       "</div>"
      ],
      "text/plain": [
       "                    TRANSMITTER     DETECTEDID         DATETIME        X  \\\n",
       "t                                                                          \n",
       "2020-05-22 14:08:00     2020-13  A69-1602-8664  5/22/2020 14:08  4600.43   \n",
       "2020-05-22 14:09:00     2020-13  A69-1602-8664  5/22/2020 14:09  4599.47   \n",
       "2020-05-22 14:11:00     2020-13  A69-1602-8664  5/22/2020 14:11  4607.95   \n",
       "2020-05-22 14:12:00     2020-13  A69-1602-8664  5/22/2020 14:12  4593.15   \n",
       "2020-05-22 14:16:00     2020-13  A69-1602-8664  5/22/2020 14:16  4600.73   \n",
       "\n",
       "                           Y    D        LAT         LON  n  HPE  HPEm  TEMP  \\\n",
       "t                                                                              \n",
       "2020-05-22 14:08:00  5936.79  5.0  34.407534 -119.553554  4  3.8   NaN   NaN   \n",
       "2020-05-22 14:09:00  5917.38  5.0  34.407359 -119.553564  6  3.4   NaN   NaN   \n",
       "2020-05-22 14:11:00  5920.45  5.0  34.407387 -119.553472  2  4.1   NaN   NaN   \n",
       "2020-05-22 14:12:00  5926.50  5.0  34.407441 -119.553633  2  4.2   NaN   NaN   \n",
       "2020-05-22 14:16:00  5926.08  5.0  34.407437 -119.553551  9  3.3   NaN   NaN   \n",
       "\n",
       "                     DEPTH  ACCEL                                        DRX  \\\n",
       "t                                                                              \n",
       "2020-05-22 14:08:00    NaN    NaN                       In_C Off_C Off_D OS2   \n",
       "2020-05-22 14:09:00    NaN    NaN                  In_B In_C Off_B Off_C OS2   \n",
       "2020-05-22 14:11:00    NaN    NaN  In_B In_C In_D In_E Off_A Off_B Off_C OS2   \n",
       "2020-05-22 14:12:00    NaN    NaN                        In_C In_D Off_D OS2   \n",
       "2020-05-22 14:16:00    NaN    NaN   In_B In_C In_D Off_B Off_C Off_D OS1 OS2   \n",
       "\n",
       "                                                 URX  \\\n",
       "t                                                      \n",
       "2020-05-22 14:08:00             In_C Off_C Off_D OS2   \n",
       "2020-05-22 14:09:00        In_B In_C Off_B Off_C OS2   \n",
       "2020-05-22 14:11:00             In_C Off_B Off_C OS2   \n",
       "2020-05-22 14:12:00              In_C In_D Off_D OS2   \n",
       "2020-05-22 14:16:00  In_C In_D Off_B Off_C Off_D OS2   \n",
       "\n",
       "                                        geometry  \n",
       "t                                                 \n",
       "2020-05-22 14:08:00  POINT (-119.55355 34.40753)  \n",
       "2020-05-22 14:09:00  POINT (-119.55356 34.40736)  \n",
       "2020-05-22 14:11:00  POINT (-119.55347 34.40739)  \n",
       "2020-05-22 14:12:00  POINT (-119.55363 34.40744)  \n",
       "2020-05-22 14:16:00  POINT (-119.55355 34.40744)  "
      ]
     },
     "execution_count": 33,
     "metadata": {},
     "output_type": "execute_result"
    }
   ],
   "source": [
    "# Set the filename\n",
    "# filename = '../data/SharkArray-2020-05-21-thru-05-28.csv'\n",
    "# filename = '../data/2020-21-max-3-min-run.csv'\n",
    "filename = '../data/2020-13-141-long-5-min-run.csv'\n",
    "\n",
    "# Load shark positions data into a GeoDataFrame\n",
    "shark_gdf = pd.read_csv(filename)\n",
    "shark_gdf['t'] = pd.to_datetime(shark_gdf['DATETIME'])\n",
    "shark_gdf['geometry'] = gpd.points_from_xy(shark_gdf.LON, shark_gdf.LAT)\n",
    "shark_gdf = gpd.GeoDataFrame(shark_gdf)\n",
    "shark_gdf = shark_gdf.set_crs('EPSG:4326')\n",
    "shark_gdf = shark_gdf.set_index('t').tz_localize(None)\n",
    "shark_gdf.head()"
   ]
  },
  {
   "cell_type": "code",
   "execution_count": 34,
   "id": "6550d400",
   "metadata": {},
   "outputs": [
    {
     "name": "stdout",
     "output_type": "stream",
     "text": [
      "The dataset contains 141 rows and 17 columns.\n",
      "The column names are: ['TRANSMITTER', 'DETECTEDID', 'DATETIME', 'X', 'Y', 'D', 'LAT', 'LON', 'n', 'HPE', 'HPEm', 'TEMP', 'DEPTH', 'ACCEL', 'DRX', 'URX', 'geometry']\n",
      "The unique transmitter names are: ['2020-13']\n"
     ]
    }
   ],
   "source": [
    "print('The dataset contains', shark_gdf.shape[0], 'rows and', shark_gdf.shape[1], 'columns.')\n",
    "print('The column names are:', list(shark_gdf.columns.values))\n",
    "print('The unique transmitter names are:', shark_gdf['TRANSMITTER'].unique())"
   ]
  },
  {
   "cell_type": "code",
   "execution_count": 35,
   "id": "be67824d",
   "metadata": {},
   "outputs": [
    {
     "name": "stdout",
     "output_type": "stream",
     "text": [
      "TrajectoryCollection with 1 trajectories Trajectory 2020-13 (2020-05-22 14:08:00 to 2020-05-22 19:22:00) | Size: 141 | Length: 3186.1m\n",
      "Bounds: (-119.555301, 34.40504, -119.549414, 34.409764)\n",
      "LINESTRING (-119.553554 34.407534, -119.553564 34.407359, -119.553472 34.407387, -119.553633 34.4074\n"
     ]
    }
   ],
   "source": [
    "# Create separate trajectories for each shark based on their transmitter ID\n",
    "traj_collection = mpd.TrajectoryCollection(shark_gdf, 'TRANSMITTER')\n",
    "traj = traj_collection.trajectories[0]\n",
    "print(traj_collection, traj)"
   ]
  },
  {
   "cell_type": "code",
   "execution_count": 36,
   "id": "38aa587a",
   "metadata": {},
   "outputs": [],
   "source": [
    "# Add a timedelta column which is the time between the previous position and the current position\n",
    "n = traj.df.shape[0]\n",
    "timedeltas = [timedelta()] + [traj.df.index[i] - traj.df.index[i - 1] for i in range(1, n)]\n",
    "traj.df['TIMEDELTA'] = timedeltas"
   ]
  },
  {
   "cell_type": "code",
   "execution_count": 37,
   "id": "f4e9f802",
   "metadata": {},
   "outputs": [],
   "source": [
    "# Add velocities and headings to each trajectory\n",
    "traj.add_speed()\n",
    "traj.add_direction()"
   ]
  },
  {
   "cell_type": "code",
   "execution_count": 38,
   "id": "5901215a",
   "metadata": {},
   "outputs": [],
   "source": [
    "# Compute turning angles\n",
    "def bound_angle_diff(theta_diff):\n",
    "    return ((theta_diff - 180) % 360) - 180\n",
    "\n",
    "n = traj.df.shape[0]\n",
    "turning_angles = [0] + [bound_angle_diff(traj.df['direction'][i + 1] - traj.df['direction'][i]) for i in range(1, n - 1)] + [0]\n",
    "traj.df['turning_angle'] = turning_angles"
   ]
  },
  {
   "cell_type": "code",
   "execution_count": 39,
   "id": "e3b9b6a8",
   "metadata": {},
   "outputs": [
    {
     "data": {
      "text/plain": [
       "Text(0.5, 1.0, 'Longest 3-min run trajectory')"
      ]
     },
     "execution_count": 39,
     "metadata": {},
     "output_type": "execute_result"
    },
    {
     "data": {
      "image/png": "[encoded data removed]",
      "text/plain": [
       "<Figure size 432x288 with 1 Axes>"
      ]
     },
     "metadata": {
      "needs_background": "light"
     },
     "output_type": "display_data"
    }
   ],
   "source": [
    "traj.plot(linestyle='None')\n",
    "plt.title('Longest 3-min run trajectory')"
   ]
  },
  {
   "cell_type": "code",
   "execution_count": 40,
   "id": "05ef26a3",
   "metadata": {},
   "outputs": [],
   "source": [
    "# Create a random generator\n",
    "rng = np.random.default_rng()"
   ]
  },
  {
   "cell_type": "code",
   "execution_count": 41,
   "id": "6742cfa2",
   "metadata": {},
   "outputs": [
    {
     "name": "stdout",
     "output_type": "stream",
     "text": [
      "tf.Tensor(0.552381, shape=(), dtype=float32) 174 315\n"
     ]
    }
   ],
   "source": [
    "observations = []\n",
    "num_missing = 0\n",
    "for idx, row in traj.df.iterrows():\n",
    "    # Append missing observations for minutes without an observation\n",
    "    for i in range(max(int(row['TIMEDELTA'].total_seconds() / 60) - 1, 0)):\n",
    "        num_missing += 1\n",
    "        observations.append([0, 0.0, 0.0])\n",
    "    observations.append([1, np.radians(row['turning_angle']), row['speed']])\n",
    "# observations = np.array(observations)\n",
    "p_missing = tf.constant(num_missing / len(observations), dtype=tf.float32)\n",
    "print(p_missing, num_missing, len(observations))"
   ]
  },
  {
   "cell_type": "code",
   "execution_count": 42,
   "id": "73ef836c",
   "metadata": {
    "scrolled": true
   },
   "outputs": [
    {
     "name": "stdout",
     "output_type": "stream",
     "text": [
      "Initial state probs:\n",
      "<tf.Variable 'initial_probs:0' shape=(2,) dtype=float32, numpy=array([0.3238358, 0.6761642], dtype=float32)>\n",
      "Transition matrix:\n",
      "<tf.Variable 'transition_probs:0' shape=(2, 2) dtype=float32, numpy=\n",
      "array([[0.45220357, 0.5477964 ],\n",
      "       [0.43518037, 0.56481963]], dtype=float32)>\n",
      "von Mises locations:\n",
      "<tf.Variable 'vm_locs:0' shape=(2,) dtype=float32, numpy=array([0., 0.], dtype=float32)>\n",
      "von Mises concentrations:\n",
      "<tf.Variable 'vm_cons:0' shape=(2,) dtype=float32, numpy=array([0., 0.], dtype=float32)>\n",
      "Gamma shapes:\n",
      "<tf.Variable 'gamma_shapes:0' shape=(2,) dtype=float32, numpy=array([1., 1.], dtype=float32)>\n",
      "Gamma rates:\n",
      "<tf.Variable 'gamma_rates:0' shape=(2,) dtype=float32, numpy=array([1., 1.], dtype=float32)>\n",
      "tfp.distributions.Categorical(\"Categorical\", batch_shape=[], event_shape=[], dtype=int32)\n",
      "tfp.distributions.Categorical(\"Categorical\", batch_shape=[2], event_shape=[], dtype=int32)\n",
      "tfp.distributions.Blockwise(\"Blockwise\", batch_shape=[2], event_shape=[2], dtype=float32)\n"
     ]
    }
   ],
   "source": [
    "# Define HMM parameters\n",
    "# We assume 2 states\n",
    "num_states = 2\n",
    "\n",
    "# Randomly initialize the initial state distribution as well as the transition probabilities\n",
    "initial_probs = tf.Variable(scipy.special.softmax(rng.random([num_states])), name='initial_probs', dtype=tf.float32)\n",
    "transition_probs = tf.Variable(scipy.special.softmax(rng.random([num_states, num_states]), axis=1), name='transition_probs', dtype=tf.float32)\n",
    "\n",
    "# Create distributions\n",
    "initial_dist = tfd.Categorical(probs=initial_probs)\n",
    "transition_dist = tfd.Categorical(probs=transition_probs)\n",
    "\n",
    "# Initialize locations and concentrations of Von Mises distributions for turning angles\n",
    "vm_locs = tf.Variable(np.zeros(num_states), dtype=tf.float32, name='vm_locs')\n",
    "vm_cons = tf.Variable(np.zeros(num_states), dtype=tf.float32, name='vm_cons')\n",
    "\n",
    "# Initialize shapes and rates of Gamma distributions for step length\n",
    "gamma_shapes = tf.Variable(np.ones(num_states), dtype=tf.float32, name='gamma_shapes')\n",
    "gamma_rates = tf.Variable(np.ones(num_states), dtype=tf.float32, name='gamma_rates')\n",
    "\n",
    "obs_dist = tfd.Blockwise([\n",
    "    tfd.VonMises(loc=vm_locs, concentration=vm_cons),\n",
    "    tfd.Gamma(concentration=gamma_shapes, rate=gamma_rates)\n",
    "])\n",
    "\n",
    "print(\"Initial state probs:\\n{}\".format(initial_probs))\n",
    "print(\"Transition matrix:\\n{}\".format(transition_probs))\n",
    "print('von Mises locations:\\n{}'.format(vm_locs))\n",
    "print('von Mises concentrations:\\n{}'.format(vm_cons))\n",
    "print('Gamma shapes:\\n{}'.format(gamma_shapes))\n",
    "print('Gamma rates:\\n{}'.format(gamma_rates))\n",
    "print(initial_dist)\n",
    "print(transition_dist)\n",
    "print(obs_dist)"
   ]
  },
  {
   "cell_type": "code",
   "execution_count": 43,
   "id": "7597baba",
   "metadata": {},
   "outputs": [],
   "source": [
    "# Function to compute the log probability with the option to include previous forward variables to continue a sequence\n",
    "def log_prob(observations, initial_dist, transition_dist, obs_dist, p_missing, previous_forward_vars=None):\n",
    "    # Dictionary to hold the forward variables for each time step\n",
    "    forward_vars = []\n",
    "    \n",
    "    log_p_missing = tf.math.log(p_missing)\n",
    "    log_p_obs = tf.math.log(1 - p_missing)\n",
    "    if previous_forward_vars is None:\n",
    "        # Compute the initial forward variables\n",
    "        forward_vars.append(log_p_obs + obs_dist.log_prob(observations[0][1:]) + initial_dist.log_prob(range(0, num_states)))\n",
    "        start_idx = 1\n",
    "    else:\n",
    "        forward_vars.append(previous_forward_vars)\n",
    "        start_idx = 0\n",
    "    \n",
    "    # Cache some values\n",
    "#     transition_log_probs_T = tf.transpose(tf.math.log(transition_probs))\n",
    "    transition_log_probs_T = transition_dist.log_prob(np.array([np.arange(num_states)] * num_states).T)\n",
    "    \n",
    "    # Loop through each observation, iteratively computing the forward variables\n",
    "    for obs in observations[start_idx:]:\n",
    "        # If the observation is missing:\n",
    "        if obs[0] == 0:\n",
    "            log_p_obs_given_state = log_p_missing\n",
    "        else:\n",
    "            log_p_obs_given_state = log_p_obs + obs_dist.log_prob(obs[1:])\n",
    "        alpha_t = tf.reduce_logsumexp(transition_log_probs_T + forward_vars[-1], axis=1) + log_p_obs_given_state\n",
    "        forward_vars.append(alpha_t)\n",
    "        \n",
    "    return tf.reduce_logsumexp(forward_vars[-1]), forward_vars[-1]"
   ]
  },
  {
   "cell_type": "code",
   "execution_count": 44,
   "id": "4ff5234d",
   "metadata": {},
   "outputs": [],
   "source": [
    "# Define a loss function\n",
    "def loss_func():\n",
    "    lp, last_forward_vars = log_prob(\n",
    "        observations, \n",
    "        initial_dist,\n",
    "        transition_dist,\n",
    "        obs_dist,\n",
    "        p_missing\n",
    "    )\n",
    "    return -lp\n",
    "\n",
    "# Define an optimizer to perform back propagation\n",
    "optimizer = tf.keras.optimizers.Adam(learning_rate=0.1)\n",
    "\n",
    "# Make sure probabilities sum to 1\n",
    "def normalize_probs(probs):\n",
    "    abs_probs = tf.math.abs(probs)\n",
    "    if len(probs.shape) > 1:\n",
    "        sums = tf.reshape(tf.reduce_sum(abs_probs, axis=1), [probs.shape[0], 1])\n",
    "    else:\n",
    "        sums = tf.reduce_sum(abs_probs)\n",
    "    return abs_probs / sums\n",
    "\n",
    "def wrap_to_pi(A):\n",
    "    return ((A - np.pi) % (2 * np.pi) - np.pi)\n",
    "\n",
    "# Run a step of the optimizer\n",
    "# @tf.function(autograph=False)\n",
    "def train_op():\n",
    "    with tf.GradientTape() as tape:\n",
    "        neg_log_prob = loss_func()\n",
    "    vars = [initial_probs, transition_probs, vm_locs, vm_cons, gamma_shapes, gamma_rates]\n",
    "    grads = tape.gradient(neg_log_prob, vars)\n",
    "    optimizer.apply_gradients(zip(grads, vars))\n",
    "    initial_probs.assign(normalize_probs(initial_probs))\n",
    "    transition_probs.assign(normalize_probs(transition_probs))\n",
    "    vm_locs.assign(wrap_to_pi(vm_locs))\n",
    "    vm_cons.assign(tf.math.abs(vm_cons))\n",
    "    gamma_shapes.assign(tf.math.abs(gamma_shapes))\n",
    "    gamma_rates.assign(tf.math.abs(gamma_rates))\n",
    "    return (neg_log_prob, *vars), grads"
   ]
  },
  {
   "cell_type": "code",
   "execution_count": 45,
   "id": "134cce6e",
   "metadata": {
    "scrolled": true
   },
   "outputs": [
    {
     "name": "stdout",
     "output_type": "stream",
     "text": [
      "step 0: log prob -501.5917053222656\n",
      "Initial probs: [0.32147506 0.6785249 ]\n",
      "Transition probs:\n",
      "[[0.3543479  0.6456521 ]\n",
      " [0.33746165 0.66253835]]\n",
      "Von Mises locs: [0. 0.]\n",
      "Von Mises cons: [0.1        0.10000001]\n",
      "Gamma shapes: [1.1 1.1]\n",
      "Gamma rates: [1.1 1.1]\n",
      "\n",
      "step 100: log prob -376.38134765625\n",
      "Initial probs: [0.9035764  0.09642366]\n",
      "Transition probs:\n",
      "[[0.015175   0.984825  ]\n",
      " [0.03682937 0.9631707 ]]\n",
      "Von Mises locs: [-0.10456896  2.011123  ]\n",
      "Von Mises cons: [0.33656204 0.23163125]\n",
      "Gamma shapes: [0.85723925 0.9870887 ]\n",
      "Gamma rates: [2.6169348 4.992684 ]\n",
      "\n",
      "step 200: log prob -358.6827697753906\n",
      "Initial probs: [0.9255749  0.07442502]\n",
      "Transition probs:\n",
      "[[0.83117235 0.16882758]\n",
      " [0.08377167 0.9162283 ]]\n",
      "Von Mises locs: [0.21290565 2.7474177 ]\n",
      "Von Mises cons: [1.2309548  0.51302713]\n",
      "Gamma shapes: [1.6209564 1.0381806]\n",
      "Gamma rates: [3.9565299 7.5040255]\n",
      "\n",
      "step 300: log prob -349.1629943847656\n",
      "Initial probs: [0.93451875 0.06548122]\n",
      "Transition probs:\n",
      "[[0.8568093  0.1431907 ]\n",
      " [0.06548275 0.9345172 ]]\n",
      "Von Mises locs: [0.21099138 2.699043  ]\n",
      "Von Mises cons: [1.1619799  0.46231115]\n",
      "Gamma shapes: [2.3086865 1.2373879]\n",
      "Gamma rates: [ 5.234198 10.059402]\n",
      "\n",
      "step 400: log prob -343.04998779296875\n",
      "Initial probs: [0.9385471  0.06145288]\n",
      "Transition probs:\n",
      "[[0.8750788  0.12492116]\n",
      " [0.04239028 0.95760965]]\n",
      "Von Mises locs: [0.20774841 2.6661427 ]\n",
      "Von Mises cons: [1.1089044  0.43894148]\n",
      "Gamma shapes: [2.8761714 1.4030516]\n",
      "Gamma rates: [ 6.33226  12.163518]\n",
      "\n"
     ]
    }
   ],
   "source": [
    "# Train on the observations\n",
    "loss_history = []\n",
    "for step in range(500):\n",
    "    ts, grads = train_op()\n",
    "    loss, ip, tp, vl, vc, gs, gr = [t.numpy() for t in ts]\n",
    "    loss_history.append(loss)\n",
    "    if step % 100 == 0:\n",
    "        print(\"step {}: log prob {}\\nInitial probs: {}\\nTransition probs:\\n{}\\nVon Mises locs: {}\\nVon Mises cons: {}\\nGamma shapes: {}\\nGamma rates: {}\\n\".format(step, -loss, ip, tp, vl, vc, gs, gr))"
   ]
  },
  {
   "cell_type": "code",
   "execution_count": 49,
   "id": "d85ad6a6",
   "metadata": {},
   "outputs": [
    {
     "data": {
      "text/plain": [
       "[<matplotlib.lines.Line2D at 0x203e6919310>]"
      ]
     },
     "execution_count": 49,
     "metadata": {},
     "output_type": "execute_result"
    },
    {
     "data": {
      "image/png": "[encoded data removed]",
      "text/plain": [
       "<Figure size 432x288 with 1 Axes>"
      ]
     },
     "metadata": {
      "needs_background": "light"
     },
     "output_type": "display_data"
    }
   ],
   "source": [
    "plt.plot(loss_history)"
   ]
  },
  {
   "cell_type": "code",
   "execution_count": 47,
   "id": "cfcf17ea",
   "metadata": {},
   "outputs": [
    {
     "data": {
      "image/png": "[encoded data removed]",
      "text/plain": [
       "<Figure size 720x360 with 2 Axes>"
      ]
     },
     "metadata": {
      "needs_background": "light"
     },
     "output_type": "display_data"
    }
   ],
   "source": [
    "fig, axs = plt.subplots(1, 2, figsize=(10, 5))\n",
    "\n",
    "# Plot observation distributions\n",
    "num = 1001\n",
    "x = np.linspace(-np.pi, np.pi, num).reshape(num, 1)\n",
    "for (j, (obs_dist, ax)) in enumerate(zip(obs_dist.distributions, axs)):\n",
    "    y = obs_dist.prob(x).numpy()\n",
    "    for i in range(y.shape[1]):\n",
    "        if j == 0:\n",
    "            label = 'state {}, loc={:.2f}, concentration={:.2f}'.format(i, vm_locs[i], vm_cons[i])\n",
    "            title = 'Turning angle distributions'\n",
    "        else:\n",
    "            label = 'state {}, mean={:.2f}, mode={:.2f}'.format(i, gamma_shapes[i] / gamma_rates[i], (gamma_shapes[i] - 1) / gamma_rates[i])\n",
    "            title = 'Speed distributions'\n",
    "        ax.plot(x[:, 0], y[:, i], label=label)\n",
    "        ax.set_title(title)\n",
    "        ax.legend(loc='upper right')\n",
    "plt.show()"
   ]
  },
  {
   "cell_type": "code",
   "execution_count": 48,
   "id": "f74c04f6",
   "metadata": {},
   "outputs": [
    {
     "data": {
      "text/plain": [
       "<tfp.distributions.Gamma 'Gamma' batch_shape=[2] event_shape=[] dtype=float32>"
      ]
     },
     "execution_count": 48,
     "metadata": {},
     "output_type": "execute_result"
    }
   ],
   "source": [
    "obs_dist"
   ]
  },
  {
   "cell_type": "code",
   "execution_count": null,
   "id": "5dc03ac7",
   "metadata": {},
   "outputs": [],
   "source": []
  }
 ],
 "metadata": {
  "kernelspec": {
   "display_name": "shark-research_project",
   "language": "python",
   "name": "shark-research_project"
  },
  "language_info": {
   "codemirror_mode": {
    "name": "ipython",
    "version": 3
   },
   "file_extension": ".py",
   "mimetype": "text/x-python",
   "name": "python",
   "nbconvert_exporter": "python",
   "pygments_lexer": "ipython3",
   "version": "3.9.4"
  }
 },
 "nbformat": 4,
 "nbformat_minor": 5
}
