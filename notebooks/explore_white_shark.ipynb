{
 "cells": [
  {
   "cell_type": "markdown",
   "metadata": {
    "collapsed": true,
    "pycharm": {
     "name": "#%% md\n"
    }
   },
   "source": [
    "# Explore White Shark Data\n",
    "This notebook will guide your exploration of a white shark dataset. "
   ]
  },
  {
   "cell_type": "markdown",
   "metadata": {
    "pycharm": {
     "name": "#%% md\n"
    }
   },
   "source": [
    "## Load modules and set filename"
   ]
  },
  {
   "cell_type": "code",
   "execution_count": null,
   "metadata": {
    "pycharm": {
     "is_executing": false,
     "name": "#%%\n"
    }
   },
   "outputs": [],
   "source": [
    "import white_shark as ws\n",
    "import numpy as np\n",
    "import pandas as pd\n",
    "from matplotlib import pyplot as plt\n",
    "\n",
    "import geopandas as gpd\n",
    "from shapely.geometry import Point\n",
    "%matplotlib inline\n",
    "\n",
    "from shapely.geometry import Polygon\n",
    "\n",
    "# Set the filename\n",
    "filename = 'subset-calc-pos.csv'"
   ]
  },
  {
   "cell_type": "markdown",
   "metadata": {},
   "source": [
    "## Convert CSV to DataFrame"
   ]
  },
  {
   "cell_type": "code",
   "execution_count": null,
   "metadata": {
    "pycharm": {
     "is_executing": false,
     "name": "#%%\n"
    }
   },
   "outputs": [],
   "source": [
    "# Call make_df from the main white_shark (ws) file\n",
    "shark = ws.make_df(filename)"
   ]
  },
  {
   "cell_type": "markdown",
   "metadata": {
    "pycharm": {
     "is_executing": false,
     "name": "#%% md\n"
    }
   },
   "source": [
    "# Meet the data\n",
    "\n",
    "Note the difference in the following commands and their output"
   ]
  },
  {
   "cell_type": "code",
   "execution_count": null,
   "metadata": {
    "pycharm": {
     "is_executing": false,
     "name": "#%%\n"
    }
   },
   "outputs": [],
   "source": [
    "print('The dataset contains', shark.shape[0], 'rows and', shark.shape[1], 'columns.')\n",
    "print('The column names are:', list(shark.columns.values))\n",
    "    \n",
    "# Use 'iloc[]' to select row '0', (does not count header as a row)\n",
    "# print(shark.iloc[0])\n",
    "\n",
    "# Use slicing to get the first row (prints header names also)\n",
    "# print(shark[:1])"
   ]
  },
  {
   "cell_type": "markdown",
   "metadata": {},
   "source": [
    "## Show first few rows of dataframe"
   ]
  },
  {
   "cell_type": "code",
   "execution_count": null,
   "metadata": {},
   "outputs": [],
   "source": [
    "shark.head()"
   ]
  },
  {
   "cell_type": "markdown",
   "metadata": {},
   "source": [
    "# Initial data exploration\n",
    "\n",
    "Here we'll use a few basic techniques to explore the data we just imported "
   ]
  },
  {
   "cell_type": "code",
   "execution_count": null,
   "metadata": {},
   "outputs": [],
   "source": [
    "# Count number of times each shark was observed  \n",
    "tag_counts = shark[\"TRANSMITTER\"].value_counts()\n",
    "print(tag_counts)"
   ]
  },
  {
   "cell_type": "code",
   "execution_count": null,
   "metadata": {},
   "outputs": [],
   "source": [
    "# Shark observation frequency, nearly same as above, but normalized to total observations   \n",
    "# setting normalize=True\n",
    "tag_frequency = shark[\"TRANSMITTER\"].value_counts(normalize=True)\n",
    "print(tag_frequency)\n",
    "\n",
    "type(tag_frequency)"
   ]
  },
  {
   "cell_type": "markdown",
   "metadata": {},
   "source": [
    "## Use the describe() method to get summary statistics\n",
    "\n",
    "The describe() method will operate on numerical columns of our shark dataframe. \n",
    "\n",
    "The output contains things like count, mean, max, etc..\n",
    "\n",
    "This will be more useful once we do our own calculations (e.g., speed) using the data. "
   ]
  },
  {
   "cell_type": "code",
   "execution_count": null,
   "metadata": {},
   "outputs": [],
   "source": [
    "shark.describe()"
   ]
  },
  {
   "cell_type": "markdown",
   "metadata": {},
   "source": [
    "## Plot a histogram of the frequency data"
   ]
  },
  {
   "cell_type": "code",
   "execution_count": null,
   "metadata": {},
   "outputs": [],
   "source": [
    "# Create a dataframe from the frequency data\n",
    "df1 = tag_frequency.to_frame()\n",
    "\n",
    "ax1 = df1.plot.bar()\n",
    "ax1.set_xlabel(\"Shark ID\", labelpad=20, weight='bold', size=12)\n",
    "ax1.set_ylabel(\"Observation Frequency\", labelpad=20, weight='bold', size=12)\n"
   ]
  },
  {
   "cell_type": "markdown",
   "metadata": {},
   "source": [
    "# Plot some time series data\n",
    "Here you'll manipulate the data frame to extract all the data \n",
    "for an individual shark and plot it using pyplot (plt). "
   ]
  },
  {
   "cell_type": "code",
   "execution_count": null,
   "metadata": {
    "pycharm": {
     "is_executing": false,
     "name": "#%%\n"
    }
   },
   "outputs": [],
   "source": [
    "# Use logical indexing to extract all data for a specific animal (coded by TRANSMITTER field)\n",
    "shark20 = shark[shark.TRANSMITTER == '2020-20']\n",
    "# shark20\n",
    "\n",
    "# Plot the shark's x-position through time\n",
    "plt.plot(shark20.DATETIME, shark20.X)\n",
    "plt.plot(shark20.DATETIME, shark20.Y)\n",
    "plt.legend(['X-position', 'Y-position'])\n",
    "plt.xlabel('time')\n",
    "plt.ylabel('position (m)')\n",
    "plt.show()\n",
    "\n",
    "# Plot all of the x-y position data points\n",
    "plt.plot(shark20.X, shark20.Y, '.-')\n",
    "\n",
    "# Overlay the points that used less than 3 receiver triangles\n",
    "plt.plot(shark20[shark20.n < 3].X, shark20[shark20.n < 3].Y, '*')\n",
    "\n",
    "plt.xlabel('X-position (m)')\n",
    "plt.ylabel('Y-position (m)')\n",
    "plt.show()\n"
   ]
  },
  {
   "cell_type": "markdown",
   "metadata": {
    "pycharm": {
     "is_executing": false,
     "name": "#%%\n"
    }
   },
   "source": [
    "# Convert DataFrame to GeoDataFrame\n",
    "## From Longitude/Latitude\n",
    "\n",
    "In order to overlay our shark data on a map, we first have to convert the regular dataframe to a GeoDataFrame "
   ]
  },
  {
   "cell_type": "code",
   "execution_count": null,
   "metadata": {},
   "outputs": [],
   "source": [
    "# Note: There's extra stuff we don't really need, so we'll create a subset of the original shark dataframe\n",
    "sub_shark = shark[[\"TRANSMITTER\", \"DATETIME\", \"LAT\", \"LON\", \"n\", \"HPE\"]]\n",
    "\n",
    "# Convert to GeoDataFrame, set geometry from LON/LAT columns\n",
    "gshark = gpd.GeoDataFrame(sub_shark,\n",
    "    geometry=gpd.points_from_xy(sub_shark.LON, sub_shark.LAT))\n",
    "\n",
    "gshark.head()"
   ]
  },
  {
   "cell_type": "markdown",
   "metadata": {},
   "source": [
    "# Contextily for Mapping\n",
    "\n",
    "We'll use a package called contextily to generate a basemap for plotting our shark data. \n",
    "\n",
    "The package can be installed within your conda environment with the command:\n",
    "**conda install contextily** "
   ]
  },
  {
   "cell_type": "code",
   "execution_count": null,
   "metadata": {},
   "outputs": [],
   "source": [
    "import contextily as ctx"
   ]
  },
  {
   "cell_type": "code",
   "execution_count": null,
   "metadata": {},
   "outputs": [],
   "source": [
    "# Look at map Providers that can be accessed with ctx\n",
    "ctx.providers.keys()"
   ]
  },
  {
   "cell_type": "code",
   "execution_count": null,
   "metadata": {},
   "outputs": [],
   "source": [
    "# Some providers have additional keys for specific map types\n",
    "ctx.providers.Stamen.keys()"
   ]
  },
  {
   "cell_type": "markdown",
   "metadata": {},
   "source": [
    "### Specify bounding box of coordinates \n",
    "\n",
    "If we know the bounds of the region we'd like to map, for example the field site where shark data was collected, we can download tiles for creating our map of the area."
   ]
  },
  {
   "cell_type": "code",
   "execution_count": null,
   "metadata": {},
   "outputs": [],
   "source": [
    "# Bounding box for Santa Barbara field site, rough estimate\n",
    "west, south, east, north = (-119.6, 34.35, -119.5, 34.45)\n",
    "\n",
    "# Download tiles using bound2img\n",
    "sb_img, sb_ext = ctx.bounds2img(west, south, east, north,\n",
    "                                ll=True,\n",
    "                                source=ctx.providers.Stamen.Terrain)"
   ]
  },
  {
   "cell_type": "markdown",
   "metadata": {},
   "source": [
    "### Render the map"
   ]
  },
  {
   "cell_type": "code",
   "execution_count": null,
   "metadata": {},
   "outputs": [],
   "source": [
    "f, ax_sb = plt.subplots(1, figsize=(9, 9))\n",
    "ax_sb.imshow(sb_img, extent=sb_ext)"
   ]
  },
  {
   "cell_type": "code",
   "execution_count": null,
   "metadata": {},
   "outputs": [],
   "source": [
    "# Manually set CRS for shark data\n",
    "gshark = gshark.set_crs(\"EPSG:4326\")\n",
    "\n",
    "# Extract each shark's data for plotting individually\n",
    "shark19 = gshark[gshark.TRANSMITTER == '2020-19']\n",
    "shark20 = gshark[gshark.TRANSMITTER == '2020-20']\n",
    "shark21 = gshark[gshark.TRANSMITTER == '2020-21']\n",
    "\n",
    "type(shark21)"
   ]
  },
  {
   "cell_type": "code",
   "execution_count": null,
   "metadata": {
    "scrolled": false
   },
   "outputs": [],
   "source": [
    "# Set more accurate bounds for plotting\n",
    "west2, south2, east2, north2 = (-119.58, 34.39, -119.535, 34.425)\n",
    "\n",
    "# Set x and y limit, based on updated bounds\n",
    "xlim = ([west2, east2])\n",
    "ylim = ([south2,  north2])\n",
    "\n",
    "# Use the plot() method to plot the points of one shark\n",
    "ax_shark = shark20.plot(figsize=(10, 10), alpha=0.5, edgecolor='k')\n",
    "\n",
    "# On the same axis, plot the other shark's points\n",
    "shark19.plot(ax=ax_shark, alpha=0.5, edgecolor='k')\n",
    "shark21.plot(ax=ax_shark, alpha=0.5, edgecolor='k')\n",
    "\n",
    "# Set axes limits\n",
    "ax_shark.set_xlim(xlim)\n",
    "ax_shark.set_ylim(ylim)\n",
    "\n",
    "# Add a basemap \n",
    "ctx.add_basemap(ax_shark, \n",
    "                crs=gshark.crs.to_string(),\n",
    "                source=ctx.providers.Stamen.Terrain)\n",
    "\n",
    "# Add a legend and axis labels\n",
    "ax_shark.legend([\"shark20\", \"shark19\", \"shark21\"])\n",
    "ax_shark.set_ylabel(\"Latitude\")\n",
    "ax_shark.set_xlabel(\"Longitude\")\n",
    "ax_shark.set_title(\"White Shark Positions during 24h\")"
   ]
  },
  {
   "cell_type": "markdown",
   "metadata": {},
   "source": [
    "#### Note\n",
    "We can get a more accurate bounding box by looking\n",
    "at the min/max of the **LON/LAT** columns of the \n",
    "*shark.describe()* output but we also want to pad these values \n",
    "to get a better sense of where the coastline is.\n",
    "\n",
    "There also appears to be a limit to how small the region can be. \n",
    "This is probably due to the way the map sources create tiles. \n",
    "\n",
    "The example above has the smallest bounding box I could set before generating an error. \n",
    "Different map Providers may have smaller/larger tiles. \n",
    "It should be possible to get a map of a slightly larger area than we need, save the map as an image file, and then only show the (smaller) region when we plot."
   ]
  },
  {
   "cell_type": "markdown",
   "metadata": {},
   "source": [
    "## Extra \n",
    "The lines of code below are just extra things I started playing with. "
   ]
  },
  {
   "cell_type": "code",
   "execution_count": null,
   "metadata": {},
   "outputs": [],
   "source": [
    "# Get map of some location using Contextily's Place() method\n",
    "loc = ctx.Place(\"Claremont, CA\", zoom_adjust=0)  # zoom_adjust modifies the auto-zoom\n",
    "\n",
    "# Print some map metadata\n",
    "for attr in [\"w\", \"s\", \"e\", \"n\", \"place\", \"zoom\", \"n_tiles\"]:\n",
    "    print(\"{}: {}\".format(attr, getattr(loc, attr)))\n",
    "\n",
    "# Create a subplot figure object with axes=\"axs\"\n",
    "fig, axs = plt.subplots(1, 3, figsize=(15, 5))\n",
    "\n",
    "# Plot the map \"loc\" in axis 0\n",
    "ctx.plot_map(loc, ax=axs[0])"
   ]
  },
  {
   "cell_type": "code",
   "execution_count": null,
   "metadata": {},
   "outputs": [],
   "source": [
    "# Set the source Provider\n",
    "nightlights = ctx.providers.NASAGIBS.ViirsEarthAtNight2012\n",
    "\n",
    "# Use the Place() method and the Provider we set above to get a map of California\n",
    "CA_lights = ctx.Place(\"California\", source=nightlights)"
   ]
  },
  {
   "cell_type": "code",
   "execution_count": null,
   "metadata": {},
   "outputs": [],
   "source": [
    "CA_lights.plot()"
   ]
  },
  {
   "cell_type": "code",
   "execution_count": null,
   "metadata": {},
   "outputs": [],
   "source": []
  }
 ],
 "metadata": {
  "kernelspec": {
   "display_name": "Python 3.10.2 64-bit",
   "language": "python",
   "name": "python3"
  },
  "language_info": {
   "codemirror_mode": {
    "name": "ipython",
    "version": 3
   },
   "file_extension": ".py",
   "mimetype": "text/x-python",
   "name": "python",
   "nbconvert_exporter": "python",
   "pygments_lexer": "ipython3",
   "version": "3.10.2"
  },
  "pycharm": {
   "stem_cell": {
    "cell_type": "raw",
    "metadata": {
     "collapsed": false
    },
    "source": []
   }
  },
  "vscode": {
   "interpreter": {
    "hash": "75863267d84321a8b6e511cdd587f81c4f11c86b54734aeec3d508a9a8dbaafc"
   }
  }
 },
 "nbformat": 4,
 "nbformat_minor": 1
}
