{
 "cells": [
  {
   "cell_type": "code",
   "execution_count": null,
   "id": "a5e388a2",
   "metadata": {},
   "outputs": [],
   "source": [
    "import pandas as pd\n",
    "import geopandas as gpd\n",
    "from geopandas import GeoDataFrame, read_file\n",
    "from shapely.geometry import Point, LineString, Polygon\n",
    "from datetime import datetime, timedelta\n",
    "import movingpandas as mpd\n",
    "import matplotlib.pyplot as plt\n",
    "import numpy as np\n",
    "import scipy.ndimage as ndi"
   ]
  },
  {
   "cell_type": "code",
   "execution_count": null,
   "id": "4e2a767a",
   "metadata": {},
   "outputs": [],
   "source": [
    "# Load receiver array positions\n",
    "receivers_gdf = pd.read_csv('../data/VPS-Station-Locations.csv')\n",
    "receivers_gdf['geometry'] = gpd.points_from_xy(receivers_gdf.Lng, receivers_df.Lat)\n",
    "receivers_gdf = gpd.GeoDataFrame(receivers_gdf)\n",
    "receivers_gdf = receivers_gdf.set_crs('EPSG:4326')\n",
    "receivers_gdf.head()"
   ]
  },
  {
   "cell_type": "code",
   "execution_count": null,
   "id": "30700d55",
   "metadata": {},
   "outputs": [],
   "source": [
    "# Set the filename\n",
    "filename = '../data/SharkArray-2020-05-21-thru-05-28.csv'\n",
    "\n",
    "# Load shark positions data into a GeoDataFrame\n",
    "shark_gdf = pd.read_csv(filename)\n",
    "shark_gdf['t'] = pd.to_datetime(shark_gdf['DATETIME'])\n",
    "shark_gdf['geometry'] = gpd.points_from_xy(shark_gdf.LON, shark_gdf.LAT)\n",
    "shark_gdf = gpd.GeoDataFrame(shark_gdf)\n",
    "shark_gdf = shark_gdf.set_crs('EPSG:4326')\n",
    "shark_gdf = shark_gdf.set_index('t').tz_localize(None)\n",
    "shark_gdf.head()"
   ]
  },
  {
   "cell_type": "code",
   "execution_count": null,
   "id": "121421a0",
   "metadata": {},
   "outputs": [],
   "source": [
    "print('The dataset contains', shark_gdf.shape[0], 'rows and', shark_gdf.shape[1], 'columns.')\n",
    "print('The column names are:', list(shark_gdf.columns.values))\n",
    "print('The unique transmitter names are:', shark_gdf['TRANSMITTER'].unique())"
   ]
  },
  {
   "cell_type": "code",
   "execution_count": null,
   "id": "e096a761",
   "metadata": {},
   "outputs": [],
   "source": [
    "# Create separate trajectories for each shark based on their transmitter ID\n",
    "traj_collection = mpd.TrajectoryCollection(shark_gdf, 'TRANSMITTER')\n",
    "print(traj_collection)"
   ]
  },
  {
   "cell_type": "code",
   "execution_count": null,
   "id": "9fff16d4",
   "metadata": {},
   "outputs": [],
   "source": [
    "for traj in traj_collection:\n",
    "    print(traj.id.split('_')[0], traj.df.shape[0])"
   ]
  },
  {
   "cell_type": "code",
   "execution_count": null,
   "id": "2e20fd7b",
   "metadata": {},
   "outputs": [],
   "source": [
    "# Add a timedelta column which is the time between the previous position and the current position\n",
    "for traj in traj_collection.trajectories:\n",
    "    n = traj.df.shape[0]\n",
    "    timedeltas = [timedelta()] + [traj.df.index[i] - traj.df.index[i - 1] for i in range(1, n)]\n",
    "    traj.df['TIMEDELTA'] = timedeltas"
   ]
  },
  {
   "cell_type": "code",
   "execution_count": null,
   "id": "540cfac3",
   "metadata": {
    "scrolled": true
   },
   "outputs": [],
   "source": [
    "# Plot timemap of positions\n",
    "cmap = plt.get_cmap('jet')\n",
    "N = len(traj_collection.trajectories)\n",
    "fig, axs = plt.subplots(N + 1, 1, figsize=(5, 5 * (N + 1)))\n",
    "for i, traj in enumerate(traj_collection.trajectories):\n",
    "    color = cmap(float(i) / N)\n",
    "    seconds = np.array([traj.df['TIMEDELTA'][i].total_seconds() for i in range(1, traj.df.shape[0])])\n",
    "    xcoords = seconds[:-1] / 60\n",
    "    ycoords = seconds[1:] / 60\n",
    "    axs[0].plot(xcoords, ycoords, marker='.', ls='', markerfacecolor=color, markeredgecolor=color, label=traj.id.split('_')[0])\n",
    "    axs[i + 1].plot(xcoords, ycoords, marker='.', ls='', markerfacecolor=color, markeredgecolor=color, label=traj.id.split('_')[0])\n",
    "ticks = [1, 3, 10, 60, 600, 1440]\n",
    "tick_labels = ['1 min', '3 min', '10 min', '1 hr', '10 hr', '1 d']\n",
    "for ax in axs:\n",
    "    ax.set_xscale('log')\n",
    "    ax.set_yscale('log')\n",
    "    ax.legend(bbox_to_anchor=(1.04, 1))\n",
    "    ax.set_xlabel('Time since last position')\n",
    "    ax.set_ylabel('Time before next position')\n",
    "    ax.set_xticks(ticks)\n",
    "    ax.set_yticks(ticks)\n",
    "    ax.set_xticklabels(tick_labels)\n",
    "    ax.set_yticklabels(tick_labels)\n",
    "plt.show()"
   ]
  },
  {
   "cell_type": "code",
   "execution_count": null,
   "id": "8f29d439",
   "metadata": {},
   "outputs": [],
   "source": [
    "OUTPUT_SCALE = 'log'\n",
    "\n",
    "# Extract a single trajectory\n",
    "seconds = []\n",
    "xcoords = []\n",
    "ycoords = []\n",
    "for i, traj in enumerate(traj_collection.trajectories):\n",
    "    seconds += [traj.df['TIMEDELTA'][i].total_seconds() for i in range(1, traj.df.shape[0])]\n",
    "    xcoords += seconds[:-1]\n",
    "    ycoords += seconds[1:]\n",
    "seconds = np.array(seconds)\n",
    "xcoords = transform_data(np.array(xcoords))\n",
    "ycoords = transform_data(np.array(ycoords))\n",
    "\n",
    "# Set up heatmap\n",
    "bins = 50\n",
    "width = 0\n",
    "H = np.zeros((bins, bins))\n",
    "max_diff = transform_data(np.max(seconds))\n",
    "x_heat = (bins - 1) * xcoords / max_diff\n",
    "y_heat = (bins - 1) * ycoords / max_diff\n",
    "for i in range(len(xcoords)):\n",
    "    H[int(x_heat[i]), int(y_heat[i])] += 1\n",
    "H = ndi.gaussian_filter(H, width)\n",
    "\n",
    "if OUTPUT_SCALE == 'log':\n",
    "    # Log scale output\n",
    "    transform_output = lambda x: np.log10(x + 1)\n",
    "    transform_output_inv = lambda x: 10 ** x - 1\n",
    "else:\n",
    "    # Linear output\n",
    "    transform_output = lambda x: x\n",
    "    transform_output_inv = lambda x: x\n",
    "\n",
    "H = transform_output(H.T)\n",
    "\n",
    "# Plot\n",
    "cmap = plt.get_cmap('nipy_spectral_r')\n",
    "fig, ax = plt.subplots(figsize=(5, 5))\n",
    "plt.imshow(H, origin='lower', extent=(0, max_diff, 0, max_diff), cmap=cmap)\n",
    "ax.set_xlim(0, max_diff)\n",
    "ax.set_ylim(0, max_diff)\n",
    "ticks = transform_data(np.array([1, 2, 3, 10, 60, 600, 1440]) * 60)\n",
    "tick_labels = ['1 min', '', '3 min', '10 min', '1 hr', '10 hr', '1 d']\n",
    "plt.xticks(ticks, tick_labels)\n",
    "plt.yticks(ticks, tick_labels)\n",
    "cbar = plt.colorbar()\n",
    "cbar.set_label('Num positions')\n",
    "\n",
    "cbar_ticks = transform_output(np.linspace(0, transform_output_inv(np.max(H)), 5))\n",
    "cbar_tick_labels = ['%.2f' % x for x in transform_output_inv(cbar_ticks)]\n",
    "cbar.set_ticks(cbar_ticks)\n",
    "cbar.set_ticklabels(cbar_tick_labels)\n",
    "\n",
    "plt.show()"
   ]
  },
  {
   "cell_type": "code",
   "execution_count": null,
   "id": "58c18e2d",
   "metadata": {},
   "outputs": [],
   "source": []
  }
 ],
 "metadata": {
  "kernelspec": {
   "display_name": "shark-research_project",
   "language": "python",
   "name": "shark-research_project"
  },
  "language_info": {
   "codemirror_mode": {
    "name": "ipython",
    "version": 3
   },
   "file_extension": ".py",
   "mimetype": "text/x-python",
   "name": "python",
   "nbconvert_exporter": "python",
   "pygments_lexer": "ipython3",
   "version": "3.9.4"
  }
 },
 "nbformat": 4,
 "nbformat_minor": 5
}
