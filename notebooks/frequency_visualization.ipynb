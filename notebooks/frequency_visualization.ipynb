{
 "cells": [
  {
   "cell_type": "code",
   "execution_count": null,
   "id": "5f8cbcee",
   "metadata": {},
   "outputs": [],
   "source": [
    "import pandas as pd\n",
    "import geopandas as gpd\n",
    "from geopandas import GeoDataFrame, read_file\n",
    "from shapely.geometry import Point, LineString, Polygon\n",
    "from datetime import datetime, timedelta\n",
    "import movingpandas as mpd\n",
    "import matplotlib.pyplot as plt\n",
    "from mpl_toolkits.axes_grid1 import make_axes_locatable\n",
    "import numpy as np\n",
    "import scipy.ndimage as ndi"
   ]
  },
  {
   "cell_type": "code",
   "execution_count": null,
   "id": "8622c3ba",
   "metadata": {},
   "outputs": [],
   "source": [
    "# Load receiver array positions\n",
    "receivers_gdf = pd.read_csv('../data/VPS-Station-Locations.csv')\n",
    "receivers_gdf['geometry'] = gpd.points_from_xy(receivers_gdf.Lng, receivers_gdf.Lat)\n",
    "receivers_gdf = gpd.GeoDataFrame(receivers_gdf)\n",
    "receivers_gdf = receivers_gdf.set_crs('EPSG:4326')\n",
    "receivers_gdf.head()"
   ]
  },
  {
   "cell_type": "code",
   "execution_count": null,
   "id": "e9ce0174",
   "metadata": {},
   "outputs": [],
   "source": [
    "output = '../graphs'"
   ]
  },
  {
   "cell_type": "code",
   "execution_count": null,
   "id": "35e42d85",
   "metadata": {},
   "outputs": [],
   "source": [
    "# Set the filename\n",
    "# filename = '../data/SharkArray-2020-05-21-thru-05-28.csv'\n",
    "filename = '../data/SharkArray-01-animals.csv'\n",
    "\n",
    "# Load shark positions data into a GeoDataFrame\n",
    "shark_gdf = pd.read_csv(filename)\n",
    "shark_gdf['t'] = pd.to_datetime(shark_gdf['DATETIME'])\n",
    "shark_gdf['geometry'] = gpd.points_from_xy(shark_gdf.LON, shark_gdf.LAT)\n",
    "shark_gdf = gpd.GeoDataFrame(shark_gdf)\n",
    "shark_gdf = shark_gdf.set_crs('EPSG:4326')\n",
    "shark_gdf = shark_gdf.set_index('t').tz_localize(None)\n",
    "shark_gdf.head()"
   ]
  },
  {
   "cell_type": "code",
   "execution_count": null,
   "id": "21576128",
   "metadata": {},
   "outputs": [],
   "source": [
    "print('The dataset contains', shark_gdf.shape[0], 'rows and', shark_gdf.shape[1], 'columns.')\n",
    "print('The column names are:', list(shark_gdf.columns.values))\n",
    "print('The unique transmitter names are:', shark_gdf['TRANSMITTER'].unique())"
   ]
  },
  {
   "cell_type": "code",
   "execution_count": null,
   "id": "a79e576c",
   "metadata": {},
   "outputs": [],
   "source": [
    "# Create separate trajectories for each shark based on their transmitter ID\n",
    "traj_collection = mpd.TrajectoryCollection(shark_gdf, 'TRANSMITTER')\n",
    "print(traj_collection)"
   ]
  },
  {
   "cell_type": "code",
   "execution_count": null,
   "id": "74281fd8",
   "metadata": {},
   "outputs": [],
   "source": [
    "# Get number of points in each trajectory\n",
    "data = []\n",
    "for traj in traj_collection:\n",
    "    data.append([traj.id.split('_')[0], traj.df.shape[0]])\n",
    "num_points = pd.DataFrame(data, columns=['TRANSMITTER', 'NUM_POSITIONS'])\n",
    "print(num_points)"
   ]
  },
  {
   "cell_type": "code",
   "execution_count": null,
   "id": "f8ec25a0",
   "metadata": {},
   "outputs": [],
   "source": [
    "# Add a timedelta column which is the time between the previous position and the current position\n",
    "for traj in traj_collection.trajectories:\n",
    "    n = traj.df.shape[0]\n",
    "    timedeltas = [timedelta()] + [traj.df.index[i] - traj.df.index[i - 1] for i in range(1, n)]\n",
    "    traj.df['TIMEDELTA'] = timedeltas"
   ]
  },
  {
   "cell_type": "code",
   "execution_count": null,
   "id": "373429cd",
   "metadata": {
    "scrolled": true
   },
   "outputs": [],
   "source": [
    "# Plot timemap of positions\n",
    "cmap = plt.get_cmap('jet')\n",
    "N = len(traj_collection.trajectories)\n",
    "fig, axs = plt.subplots(N + 1, 1, figsize=(5, 5 * (N + 1)))\n",
    "for i, traj in enumerate(traj_collection.trajectories):\n",
    "    color = cmap(float(i) / N)\n",
    "    seconds = np.array([traj.df['TIMEDELTA'][i].total_seconds() for i in range(1, traj.df.shape[0])])\n",
    "    xcoords = seconds[:-1] / 60\n",
    "    ycoords = seconds[1:] / 60\n",
    "    axs[0].plot(xcoords, ycoords, marker='.', ls='', markerfacecolor=color, markeredgecolor=color, label=traj.id.split('_')[0])\n",
    "    axs[i + 1].plot(xcoords, ycoords, marker='.', ls='', markerfacecolor=color, markeredgecolor=color, label=traj.id.split('_')[0])\n",
    "    axs[i + 1].set_title('Num points: ' + str(len(seconds)))\n",
    "ticks = [1, 3, 10, 60, 600, 1440, 14400]\n",
    "tick_labels = ['1 min', '3 min', '10 min', '1 hr', '10 hr', '1 d', '10 d']\n",
    "for ax in axs:\n",
    "    ax.set_xscale('log')\n",
    "    ax.set_yscale('log')\n",
    "    ax.legend(bbox_to_anchor=(1.04, 1))\n",
    "    ax.set_xlabel('Time since last position')\n",
    "    ax.set_ylabel('Time before next position')\n",
    "    ax.set_xticks(ticks)\n",
    "    ax.set_yticks(ticks)\n",
    "    ax.set_xticklabels(tick_labels)\n",
    "    ax.set_yticklabels(tick_labels)\n",
    "axs[0].set_title('Shark Array 01 Time Map')\n",
    "plt.savefig(output + '/scatter_timemaps_full_dataset', bbox_inches=\"tight\")\n",
    "plt.show()"
   ]
  },
  {
   "cell_type": "code",
   "execution_count": null,
   "id": "606159af",
   "metadata": {},
   "outputs": [],
   "source": [
    "def plot_time_map_heat(ax, seconds, xcoords, ycoords, bins, width, title, color_scale='log'):\n",
    "    transform_data = lambda x: np.log10(x / 60)\n",
    "    seconds = np.array(seconds)\n",
    "    xcoords = transform_data(np.array(xcoords))\n",
    "    ycoords = transform_data(np.array(ycoords))\n",
    "    \n",
    "    # Set up heatmap\n",
    "    H = np.zeros((bins, bins))\n",
    "    max_diff = transform_data(np.max(seconds))\n",
    "    x_heat = (bins - 1) * xcoords / max_diff\n",
    "    y_heat = (bins - 1) * ycoords / max_diff\n",
    "    for i in range(len(xcoords)):\n",
    "        H[int(x_heat[i]), int(y_heat[i])] += 1\n",
    "    H = ndi.gaussian_filter(H, width)\n",
    "\n",
    "    if color_scale == 'log':\n",
    "        # Log scale output\n",
    "        transform_output = lambda x: np.log10(x + 1)\n",
    "        transform_output_inv = lambda x: 10 ** x - 1\n",
    "    else:\n",
    "        # Linear output\n",
    "        transform_output = lambda x: x\n",
    "        transform_output_inv = lambda x: x\n",
    "\n",
    "    H = transform_output(H.T)\n",
    "\n",
    "    # Plot\n",
    "    cmap = plt.get_cmap('nipy_spectral_r')\n",
    "    mappable = ax.imshow(H, origin='lower', extent=(0, max_diff, 0, max_diff), cmap=cmap)\n",
    "    ax.set_xlim(0, max_diff)\n",
    "    ax.set_ylim(0, max_diff)\n",
    "    ax.set_xlabel('Time since last position')\n",
    "    ax.set_ylabel('Time before next position')\n",
    "    ax.set_title(title)\n",
    "    ticks = transform_data(np.array([1, 2, 3, 10, 60, 600, 1440, 14400]) * 60)\n",
    "    tick_labels = ['1 min', '', '3 min', '10 min', '1 hr', '10 hr', '1 d', '10 d']\n",
    "    ax.set_xticks(ticks)\n",
    "    ax.set_xticklabels(tick_labels)\n",
    "    ax.set_yticks(ticks)\n",
    "    ax.set_yticklabels(tick_labels)\n",
    "    ax.set_facecolor(cmap(0))\n",
    "    \n",
    "    divider = make_axes_locatable(ax)\n",
    "    cax = divider.append_axes('right', size='5%', pad=0.05)\n",
    "    cbar = plt.colorbar(mappable, cax=cax)\n",
    "    cbar.set_label('Num positions')\n",
    "\n",
    "    cbar_ticks = np.linspace(0, np.max(H), 10)\n",
    "    cbar_tick_labels = ['%.2f' % x for x in transform_output_inv(cbar_ticks)]\n",
    "\n",
    "    cbar.set_ticks(cbar_ticks)\n",
    "    cbar.set_ticklabels(cbar_tick_labels)"
   ]
  },
  {
   "cell_type": "code",
   "execution_count": null,
   "id": "3ab315be",
   "metadata": {},
   "outputs": [],
   "source": [
    "# Extract data for all trajectories\n",
    "seconds = []\n",
    "xcoords = []\n",
    "ycoords = []\n",
    "for i, traj in enumerate(traj_collection.trajectories):\n",
    "    seconds += [traj.df['TIMEDELTA'][i].total_seconds() for i in range(1, traj.df.shape[0])]\n",
    "    xcoords += seconds[:-1]\n",
    "    ycoords += seconds[1:]"
   ]
  },
  {
   "cell_type": "code",
   "execution_count": null,
   "id": "a8909229",
   "metadata": {},
   "outputs": [],
   "source": [
    "# granular\n",
    "bins = 50\n",
    "width = 0\n",
    "\n",
    "fig, ax = plt.subplots(figsize=(5, 5))\n",
    "plot_time_map_heat(ax, seconds, xcoords, ycoords, bins, width, 'Shark Array 01 Time Map', color_scale='log')\n",
    "plt.savefig(output + '/heatmap_time_map_full_dataset', bbox_inches=\"tight\")\n",
    "plt.show()"
   ]
  },
  {
   "cell_type": "code",
   "execution_count": null,
   "id": "47915c10",
   "metadata": {},
   "outputs": [],
   "source": [
    "# smooth\n",
    "bins = 256\n",
    "width = 8\n",
    "\n",
    "fig, ax = plt.subplots(figsize=(5, 5))\n",
    "plot_time_map_heat(ax, seconds, xcoords, ycoords, bins, width, 'Shark Array 01 Time Map', color_scale='log')\n",
    "plt.savefig(output + '/heatmap_time_map_full_dataset_smooth', bbox_inches=\"tight\")\n",
    "plt.show()"
   ]
  },
  {
   "cell_type": "code",
   "execution_count": null,
   "id": "41eae316",
   "metadata": {},
   "outputs": [],
   "source": [
    "# Plot time map heat maps for all trajectories separately\n",
    "n = len(traj_collection.trajectories)\n",
    "fig, axs = plt.subplots(n, 1, figsize=(5, 5 * n))\n",
    "\n",
    "bins = 50\n",
    "width = 0\n",
    "\n",
    "for i, (traj, ax) in enumerate(zip(traj_collection.trajectories, axs)):\n",
    "    seconds = [traj.df['TIMEDELTA'][i].total_seconds() for i in range(1, traj.df.shape[0])]\n",
    "    xcoords = seconds[:-1]\n",
    "    ycoords = seconds[1:]\n",
    "    title = 'Shark {}: num positions = {}'.format(traj.id, traj.size())\n",
    "    plot_time_map_heat(ax, seconds, xcoords, ycoords, bins, width, title, color_scale='log')\n",
    "plt.savefig(output + '/heatmap_time_map_by_shark', bbox_inches=\"tight\")\n",
    "plt.show()"
   ]
  },
  {
   "cell_type": "code",
   "execution_count": null,
   "id": "84638418",
   "metadata": {},
   "outputs": [],
   "source": [
    "# Plot time map heat maps for all trajectories separately\n",
    "trajs = [traj_collection.get_trajectory(traj_id) for traj_id in ['2020-20', '2020-13', '2020-04']]\n",
    "n = len(trajs)\n",
    "\n",
    "fig, axs = plt.subplots(1, n, figsize=(5 * n, 5))\n",
    "\n",
    "bins = 50\n",
    "width = 0\n",
    "\n",
    "for i, (traj, ax) in enumerate(zip(trajs, axs)):\n",
    "    seconds = [traj.df['TIMEDELTA'][i].total_seconds() for i in range(1, traj.df.shape[0])]\n",
    "    xcoords = seconds[:-1]\n",
    "    ycoords = seconds[1:]\n",
    "    title = 'Shark {}: num positions = {}'.format(traj.id, traj.size())\n",
    "    plot_time_map_heat(ax, seconds, xcoords, ycoords, bins, width, title, color_scale='log')\n",
    "\n",
    "plt.tight_layout()\n",
    "plt.savefig(output + '/heatmap_time_map_3_sharks', bbox_inches=\"tight\")\n",
    "plt.show()"
   ]
  },
  {
   "cell_type": "code",
   "execution_count": null,
   "id": "b5832c0e",
   "metadata": {},
   "outputs": [],
   "source": [
    "# Create histogram of position data by day\n",
    "start_time = shark_gdf.index.min()\n",
    "end_time = shark_gdf.index.max()\n",
    "delta = end_time - start_time\n",
    "bins = int(delta.total_seconds() // (3600 * 24))\n",
    "data = np.array([(shark_gdf.index[i] - start_time).total_seconds() for i in range(shark_gdf.shape[0])]) / (3600 * 24)\n",
    "plt.hist(data, bins=bins)\n",
    "# plt.xticks(np.linspace(0, 7, 8) * 24, ['5-21', '5-22', '5-23', '5-24', '5-25', '5-26', '5-27', '5-28'])\n",
    "plt.gca().set_title('Position data histogram')\n",
    "plt.show()"
   ]
  },
  {
   "cell_type": "code",
   "execution_count": null,
   "id": "6d4bc35d",
   "metadata": {},
   "outputs": [],
   "source": [
    "start_time = shark_gdf.index.min()\n",
    "end_time = shark_gdf.index.max()\n",
    "delta = end_time - start_time\n",
    "num_bins = int(delta.total_seconds() // (3600 * 24))\n",
    "\n",
    "cmap = plt.get_cmap('jet')\n",
    "N = len(traj_collection.trajectories)\n",
    "fig, axs = plt.subplots(N + 1, 1, figsize=(5, 5 * (N + 1)))\n",
    "\n",
    "total_data = []\n",
    "colors = []\n",
    "labels = []\n",
    "\n",
    "for (i, traj), ax in zip(enumerate(traj_collection.trajectories), axs[1:]):\n",
    "    color = cmap(float(i) / N)\n",
    "    data = np.array([(traj.df.index[i] - start_time).total_seconds() for i in range(traj.size())]) / (3600 * 24)\n",
    "    label = traj.id.split('_')[0]\n",
    "    \n",
    "    total_data.append(data)\n",
    "    colors.append(color)\n",
    "    labels.append(label)\n",
    "    \n",
    "    ax.hist(data, bins=num_bins, color=color, label=label)\n",
    "    ax.legend(bbox_to_anchor=(1.04, 1))\n",
    "    ax.set_title('Num positions: ' + str(traj.size()))\n",
    "\n",
    "axs[0].hist(total_data, bins=num_bins, color=colors, label=labels, stacked=True, histtype='barstacked')\n",
    "axs[0].legend(bbox_to_anchor=(1.04, 1))\n",
    "\n",
    "# Set the same scale for each plot\n",
    "for ax in axs[1:]:\n",
    "    ax.set_ylim(axs[0].get_ylim())\n",
    "\n",
    "# plt.xticks(np.linspace(0, 7, 8) * 24, ['5-21', '5-22', '5-23', '5-24', '5-25', '5-26', '5-27', '5-28'])\n",
    "axs[0].set_title('Position data histograms')\n",
    "plt.savefig(output + '/position_data_histograms_full_dataset', bbox_inches=\"tight\")\n",
    "plt.show()"
   ]
  },
  {
   "cell_type": "code",
   "execution_count": null,
   "id": "d09080c4",
   "metadata": {},
   "outputs": [],
   "source": [
    "plt.hist(seconds / 60, bins = list(range(0, 60)))\n",
    "plt.gca().set_title('Time difference histogram')\n",
    "plt.gca().set_xlabel('minutes')\n",
    "plt.show()"
   ]
  },
  {
   "cell_type": "code",
   "execution_count": null,
   "id": "4c63c42e",
   "metadata": {},
   "outputs": [],
   "source": [
    "# Add velocities and headings to each trajectory\n",
    "for traj in traj_collection.trajectories:\n",
    "    traj.add_speed()\n",
    "    traj.add_direction()"
   ]
  },
  {
   "cell_type": "code",
   "execution_count": null,
   "id": "15843644",
   "metadata": {},
   "outputs": [],
   "source": [
    "# Compute turning angles\n",
    "def bound_angle_diff(theta_diff):\n",
    "    return ((theta_diff - 180) % 360) - 180\n",
    "\n",
    "for traj in traj_collection.trajectories:\n",
    "    n = traj.df.shape[0]\n",
    "    turning_angles = [traj.df['direction'][0]] + [bound_angle_diff(traj.df['direction'][i + 1] - traj.df['direction'][i]) for i in range(1, n - 1)] + [0]\n",
    "    traj.df['turning_angle'] = turning_angles"
   ]
  },
  {
   "cell_type": "code",
   "execution_count": null,
   "id": "54f48f4b",
   "metadata": {},
   "outputs": [],
   "source": [
    "traj_collection.trajectories[0].df.head()"
   ]
  },
  {
   "cell_type": "code",
   "execution_count": null,
   "id": "5df3f289",
   "metadata": {},
   "outputs": [],
   "source": [
    "# Verify turning angle calculation by showing segment of trajectory\n",
    "i = 1\n",
    "traj_collection.trajectories[0].get_linestring_between(traj_collection.trajectories[0].df.index[i - 1], traj_collection.trajectories[0].df.index[i + 1])"
   ]
  },
  {
   "cell_type": "code",
   "execution_count": null,
   "id": "b3feee16",
   "metadata": {},
   "outputs": [],
   "source": [
    "# Split by observation gap\n",
    "obs_gap_trajs_dict = {}\n",
    "for traj in traj_collection:\n",
    "    obs_gap_trajs_dict[traj.id.split('_')[0]] = mpd.ObservationGapSplitter(traj).split(gap=timedelta(minutes=60))"
   ]
  },
  {
   "cell_type": "code",
   "execution_count": null,
   "id": "06c2ca97",
   "metadata": {},
   "outputs": [],
   "source": [
    "# Print lengths of trajectories\n",
    "obs_gap_lengths_dict = {}\n",
    "data = []\n",
    "for name, obs_gap_trajs in obs_gap_trajs_dict.items():\n",
    "    lengths = np.array([obs_gap_trajs.trajectories[i].size() for i in range(len(obs_gap_trajs.trajectories))])\n",
    "    obs_gap_lengths_dict[name] = lengths\n",
    "    print(name)\n",
    "    print(lengths)\n",
    "    print('max:', np.max(lengths), 'min:', np.min(lengths), 'avg:', '%.2f' % np.average(lengths), 'sum:', np.sum(lengths), 'len:', len(lengths))\n",
    "    idx = np.argmax(lengths)\n",
    "    max_traj = obs_gap_trajs_dict[name].trajectories[idx]\n",
    "    start_time = max_traj.get_start_time()\n",
    "    end_time = max_traj.get_end_time()\n",
    "    data.append([name, np.max(lengths), start_time, end_time, (end_time - start_time).total_seconds() / 60, np.average(lengths), np.sum(lengths), len(lengths)])\n",
    "obs_gap_lengths_df = pd.DataFrame(data, columns=['TRANSMITTER', 'MAX_LEN', 'MAX_START_TIME', 'MAX_END_TIME', 'TOTAL_MINUTES', 'AVG', 'SUM', 'NUM'])"
   ]
  },
  {
   "cell_type": "code",
   "execution_count": null,
   "id": "f076391c",
   "metadata": {},
   "outputs": [],
   "source": [
    "# obs_gap_lengths_df[['TRANSMITTER', 'MAX_LEN', 'NUM']]\n",
    "obs_gap_lengths_df"
   ]
  },
  {
   "cell_type": "code",
   "execution_count": null,
   "id": "a4f0d5db",
   "metadata": {},
   "outputs": [],
   "source": [
    "# Print lengths of trajectories\n",
    "data = []\n",
    "for name, obs_gap_trajs in obs_gap_trajs_dict.items():\n",
    "    for traj in obs_gap_trajs:\n",
    "        start_time = traj.get_start_time()\n",
    "        end_time = traj.get_end_time()\n",
    "        data.append([name, start_time, end_time, end_time - start_time, traj.size()])\n",
    "obs_gap_lengths_df = pd.DataFrame(data, columns=['TRANSMITTER', 'START_TIME', 'END_TIME', 'TIMEDELTA', 'NUM_POSITIONS'])\n",
    "obs_gap_lengths_df.sort_values('NUM_POSITIONS', ascending=False, inplace=True)\n",
    "obs_gap_lengths_df.to_csv('../data/3-min-run-trajectories.csv', index=False)"
   ]
  },
  {
   "cell_type": "code",
   "execution_count": null,
   "id": "a6491935",
   "metadata": {},
   "outputs": [],
   "source": [
    "num_bins = 100\n",
    "cmap = plt.get_cmap('jet')\n",
    "N = len(traj_collection.trajectories)\n",
    "fig, axs = plt.subplots(N + 1, 1, figsize=(5, 5 * (N + 1)))\n",
    "\n",
    "total_data = []\n",
    "colors = []\n",
    "labels = []\n",
    "\n",
    "for (i, traj), ax in zip(enumerate(traj_collection.trajectories), axs[1:]):\n",
    "    color = cmap(float(i) / N)\n",
    "    data = np.array(traj.df['speed'])\n",
    "    label = traj.id.split('_')[0]\n",
    "    \n",
    "    total_data.append(data)\n",
    "    colors.append(color)\n",
    "    labels.append(label)\n",
    "    \n",
    "    ax.hist(data, bins=num_bins, color=color, label=label)\n",
    "    ax.legend(bbox_to_anchor=(1.04, 1))\n",
    "    ax.set_title('Num data points: ' + str(traj.size()))\n",
    "\n",
    "axs[0].hist(total_data, bins=num_bins, color=colors, label=labels, stacked=True, histtype='barstacked')\n",
    "axs[0].legend(bbox_to_anchor=(1.04, 1))\n",
    "\n",
    "# Set the same scale for each plot\n",
    "# for ax in axs[1:]:\n",
    "#     ax.set_ylim(axs[0].get_ylim())\n",
    "\n",
    "axs[0].set_title('Speed histograms')\n",
    "plt.savefig(output + '/speed_histograms_full_dataset', bbox_inches=\"tight\")\n",
    "plt.show()"
   ]
  },
  {
   "cell_type": "code",
   "execution_count": null,
   "id": "eb660392",
   "metadata": {},
   "outputs": [],
   "source": [
    "num_bins = 100\n",
    "cmap = plt.get_cmap('jet')\n",
    "N = len(traj_collection.trajectories)\n",
    "fig, axs = plt.subplots(N + 1, 1, figsize=(5, 5 * (N + 1)))\n",
    "\n",
    "total_data = []\n",
    "colors = []\n",
    "labels = []\n",
    "\n",
    "for (i, traj), ax in zip(enumerate(traj_collection.trajectories), axs[1:]):\n",
    "    color = cmap(float(i) / N)\n",
    "    data = np.array(traj.df['turning_angle']) * np.pi / 180\n",
    "    label = traj.id.split('_')[0]\n",
    "    \n",
    "    total_data.append(data)\n",
    "    colors.append(color)\n",
    "    labels.append(label)\n",
    "    \n",
    "    ax.hist(data, bins=num_bins, color=color, label=label)\n",
    "    ax.legend(bbox_to_anchor=(1.04, 1))\n",
    "    ax.set_title('Num data points: ' + str(traj.size()))\n",
    "    ax.set_xlim((-np.pi, np.pi))\n",
    "\n",
    "axs[0].hist(total_data, bins=num_bins, color=colors, label=labels, stacked=True, histtype='barstacked')\n",
    "axs[0].legend(bbox_to_anchor=(1.04, 1))\n",
    "axs[0].set_xlim((-np.pi, np.pi))\n",
    "\n",
    "# Set the same scale for each plot\n",
    "# for ax in axs[1:]:\n",
    "#     ax.set_ylim(axs[0].get_ylim())\n",
    "\n",
    "axs[0].set_title('Turning angle histograms')\n",
    "plt.savefig(output + '/turning_angle_histograms_full_dataset', bbox_inches=\"tight\")\n",
    "plt.show()"
   ]
  },
  {
   "cell_type": "code",
   "execution_count": null,
   "id": "db1d8d39",
   "metadata": {},
   "outputs": [],
   "source": [
    "num_bins = 100\n",
    "cmap = plt.get_cmap('jet')\n",
    "N = len(traj_collection.trajectories)\n",
    "fig, axs = plt.subplots(N + 1, 1, figsize=(5, 5 * (N + 1)))\n",
    "\n",
    "total_data = []\n",
    "colors = []\n",
    "labels = []\n",
    "\n",
    "for (i, traj), ax in zip(enumerate(traj_collection.trajectories), axs[1:]):\n",
    "    color = cmap(float(i) / N)\n",
    "    data = np.array([depth for depth in traj.df['DEPTH'] if not np.isnan(depth)])\n",
    "    label = traj.id.split('_')[0]\n",
    "    \n",
    "    total_data.append(data)\n",
    "    colors.append(color)\n",
    "    labels.append(label)\n",
    "    \n",
    "    ax.hist(data, bins=num_bins, color=color, label=label)\n",
    "    ax.legend(bbox_to_anchor=(1.04, 1))\n",
    "    ax.set_title('Num data points: {} / {}'.format(str(len(data)), traj.size()))\n",
    "\n",
    "axs[0].hist(total_data, bins=num_bins, color=colors, label=labels, stacked=True, histtype='barstacked')\n",
    "axs[0].legend(bbox_to_anchor=(1.04, 1))\n",
    "\n",
    "# Set the same scale for each plot\n",
    "for ax in axs[1:]:\n",
    "    ax.set_xlim(axs[0].get_xlim())\n",
    "\n",
    "axs[0].set_title('Depth histograms')\n",
    "plt.savefig(output + '/depth_histograms_full_dataset', bbox_inches=\"tight\")\n",
    "plt.show()"
   ]
  },
  {
   "cell_type": "code",
   "execution_count": null,
   "id": "876fb81f",
   "metadata": {},
   "outputs": [],
   "source": [
    "start_time = shark_gdf.index.min()\n",
    "end_time = shark_gdf.index.max()\n",
    "print(start_time, end_time)"
   ]
  },
  {
   "cell_type": "code",
   "execution_count": null,
   "id": "e8eb0c3b",
   "metadata": {},
   "outputs": [],
   "source": []
  }
 ],
 "metadata": {
  "kernelspec": {
   "display_name": "shark-research_project",
   "language": "python",
   "name": "shark-research_project"
  },
  "language_info": {
   "codemirror_mode": {
    "name": "ipython",
    "version": 3
   },
   "file_extension": ".py",
   "mimetype": "text/x-python",
   "name": "python",
   "nbconvert_exporter": "python",
   "pygments_lexer": "ipython3",
   "version": "3.9.4"
  }
 },
 "nbformat": 4,
 "nbformat_minor": 5
}
