{
 "cells": [
  {
   "cell_type": "markdown",
   "metadata": {
    "pycharm": {
     "name": "#%% md\n"
    }
   },
   "source": [
    "# Import Modules"
   ]
  },
  {
   "cell_type": "code",
   "execution_count": 1,
   "metadata": {
    "pycharm": {
     "name": "#%% \n"
    }
   },
   "outputs": [],
   "source": [
    "import white_shark as ws\n",
    "import numpy as np\n",
    "import pandas as pd\n",
    "\n",
    "import matplotlib\n",
    "matplotlib.style.use('ggplot')\n",
    "from matplotlib import pyplot as plt\n",
    "%matplotlib inline\n",
    "\n",
    "\n",
    "import geopandas as gpd"
   ]
  },
  {
   "cell_type": "markdown",
   "metadata": {
    "pycharm": {
     "name": "#%% md\n"
    }
   },
   "source": [
    "## Pathnames and Global Variables"
   ]
  },
  {
   "cell_type": "code",
   "execution_count": 2,
   "metadata": {
    "pycharm": {
     "name": "#%%\n"
    }
   },
   "outputs": [],
   "source": [
    "# Path to data file \n",
    "POSITION_FILENAME = 'data/subset-calc-pos.csv'\n",
    "# POSITION_FILENAME = 'data/ALL-CALC-POSITIONS.csv'\n",
    "\n",
    "# Path to shark metadata \n",
    "TAGS_FILENAME = 'data/shark-acoustic-tags.csv'\n",
    "\n",
    "# Parameter to show delta_t figures\n",
    "SHOW_FIGS = False"
   ]
  },
  {
   "cell_type": "markdown",
   "metadata": {
    "pycharm": {
     "name": "#%% md\n"
    }
   },
   "source": [
    "# Import Data"
   ]
  },
  {
   "cell_type": "code",
   "execution_count": 3,
   "metadata": {
    "pycharm": {
     "name": "#%% \n"
    }
   },
   "outputs": [],
   "source": [
    "# Call make_df from the main white_shark (ws) file\n",
    "shark_df = ws.make_df(POSITION_FILENAME)\n",
    "\n",
    "# print(shark_df.head())\n",
    "tag_ids = ws.shark_meta(TAGS_FILENAME)\n",
    "\n",
    "# Get metadata from unique shark IDs\n",
    "uniq_ids = ws.match_shark_id(shark_df.TRANSMITTER, tag_ids)\n",
    "\n",
    "# Create Shark objects of all unique sharks in dataset\n",
    "shark_objs = ws.populate_sharks(shark_df, uniq_ids)"
   ]
  },
  {
   "cell_type": "markdown",
   "metadata": {
    "pycharm": {
     "name": "#%% md\n"
    }
   },
   "source": [
    "# Data Analysis \n",
    "\n",
    "### Operations for every shark in dataset \n",
    "\n",
    "#### Within the for-loop we compute:\n",
    "    1. delta T: time between consecutive observations\n",
    "    2. step length: distance between consecutive observations\n",
    "    3. turn angle: angle between consecutive position observations\n",
    "    4. speed: needs delta T and step length "
   ]
  },
  {
   "cell_type": "code",
   "execution_count": 4,
   "metadata": {
    "pycharm": {
     "name": "#%%\n"
    }
   },
   "outputs": [],
   "source": [
    "# Empty DataFrame for accumulating output data\n",
    "output_df = pd.DataFrame()\n",
    "frames = []\n",
    "\n",
    "for fish in shark_objs:\n",
    "    \"\"\" each fish object contains shark identifiers and its data (DataFrame)\n",
    "    \"\"\"\n",
    "\n",
    "    # Compute delta_t, add to fish.data DataFrame as a new column\n",
    "    fish.data[\"delta_t\"] = ws.time_between_obs(fish)\n",
    "\n",
    "    # Calculate step length, add to fish.data DataFrame as a new column\n",
    "    fish.data[\"step_length\"] = ws.calc_step_length(fish)\n",
    "\n",
    "    # Calculate turning angle, add to fish.data DataFrame as a new column\n",
    "    fish.data[\"turn_angle\"] = ws.calc_turn_angle(fish)\n",
    "\n",
    "    # Calculate speed, add to fish.data DataFrame as a new column\n",
    "    fish.data[\"speed\"] = ws.calc_speed(fish)\n",
    "\n",
    "    # Append current shark's output DataFrame to frames List\n",
    "    frames.append(fish.data[[\"DATETIME\", \"delta_t\", \"step_length\", \"turn_angle\", \"speed\"]])\n",
    "\n",
    "# Concatenate all DataFrames in frames\n",
    "df_out = pd.concat(frames)\n",
    "\n",
    "# Set column names as headers\n",
    "df_out.columns = [\"DATETIME\", \"delta_t\", \"step_length\", \"turn_angle\", \"speed\"]\n",
    "\n",
    "if \"ALL\" in POSITION_FILENAME:\n",
    "    cutoff = 720\n",
    "else:\n",
    "    cutoff = 60"
   ]
  },
  {
   "cell_type": "markdown",
   "metadata": {},
   "source": [
    "# Accessing Data\n",
    "\n",
    "---\n",
    "Use the `loc` keyword to access an individual's data\n",
    "\n",
    "`df_out.loc['2020-20']`\n",
    "\n",
    "Note that time is still an index available on the subset above. \n",
    "\n",
    "---"
   ]
  },
  {
   "cell_type": "code",
   "execution_count": 5,
   "metadata": {},
   "outputs": [
    {
     "data": {
      "text/html": [
       "<div>\n",
       "<style scoped>\n",
       "    .dataframe tbody tr th:only-of-type {\n",
       "        vertical-align: middle;\n",
       "    }\n",
       "\n",
       "    .dataframe tbody tr th {\n",
       "        vertical-align: top;\n",
       "    }\n",
       "\n",
       "    .dataframe thead th {\n",
       "        text-align: right;\n",
       "    }\n",
       "</style>\n",
       "<table border=\"1\" class=\"dataframe\">\n",
       "  <thead>\n",
       "    <tr style=\"text-align: right;\">\n",
       "      <th></th>\n",
       "      <th>DATETIME</th>\n",
       "      <th>delta_t</th>\n",
       "      <th>step_length</th>\n",
       "      <th>turn_angle</th>\n",
       "      <th>speed</th>\n",
       "    </tr>\n",
       "    <tr>\n",
       "      <th>sharkID</th>\n",
       "      <th></th>\n",
       "      <th></th>\n",
       "      <th></th>\n",
       "      <th></th>\n",
       "      <th></th>\n",
       "    </tr>\n",
       "  </thead>\n",
       "  <tbody>\n",
       "    <tr>\n",
       "      <th>2020-19</th>\n",
       "      <td>2020-05-21 22:07:00</td>\n",
       "      <td>NaN</td>\n",
       "      <td>NaN</td>\n",
       "      <td>NaN</td>\n",
       "      <td>NaN</td>\n",
       "    </tr>\n",
       "    <tr>\n",
       "      <th>2020-19</th>\n",
       "      <td>2020-05-21 22:09:00</td>\n",
       "      <td>2.0</td>\n",
       "      <td>115.597253</td>\n",
       "      <td>0.479703</td>\n",
       "      <td>0.963310</td>\n",
       "    </tr>\n",
       "    <tr>\n",
       "      <th>2020-19</th>\n",
       "      <td>2020-05-21 22:11:00</td>\n",
       "      <td>2.0</td>\n",
       "      <td>65.079205</td>\n",
       "      <td>0.637416</td>\n",
       "      <td>0.542327</td>\n",
       "    </tr>\n",
       "    <tr>\n",
       "      <th>2020-19</th>\n",
       "      <td>2020-05-21 22:14:00</td>\n",
       "      <td>3.0</td>\n",
       "      <td>121.383111</td>\n",
       "      <td>0.555368</td>\n",
       "      <td>0.674351</td>\n",
       "    </tr>\n",
       "    <tr>\n",
       "      <th>2020-19</th>\n",
       "      <td>2020-05-21 22:23:00</td>\n",
       "      <td>9.0</td>\n",
       "      <td>344.363465</td>\n",
       "      <td>-0.324055</td>\n",
       "      <td>0.637710</td>\n",
       "    </tr>\n",
       "  </tbody>\n",
       "</table>\n",
       "</div>"
      ],
      "text/plain": [
       "                   DATETIME  delta_t  step_length  turn_angle     speed\n",
       "sharkID                                                                \n",
       "2020-19 2020-05-21 22:07:00      NaN          NaN         NaN       NaN\n",
       "2020-19 2020-05-21 22:09:00      2.0   115.597253    0.479703  0.963310\n",
       "2020-19 2020-05-21 22:11:00      2.0    65.079205    0.637416  0.542327\n",
       "2020-19 2020-05-21 22:14:00      3.0   121.383111    0.555368  0.674351\n",
       "2020-19 2020-05-21 22:23:00      9.0   344.363465   -0.324055  0.637710"
      ]
     },
     "execution_count": 5,
     "metadata": {},
     "output_type": "execute_result"
    }
   ],
   "source": [
    "# Get all data for shark 20\n",
    "# df_out.loc['2020-20']\n",
    "df_out.head()"
   ]
  },
  {
   "cell_type": "markdown",
   "metadata": {
    "pycharm": {
     "name": "#%% md\n"
    }
   },
   "source": [
    "# Plotting"
   ]
  },
  {
   "cell_type": "code",
   "execution_count": 6,
   "metadata": {
    "pycharm": {
     "name": "#%% \n"
    }
   },
   "outputs": [
    {
     "name": "stderr",
     "output_type": "stream",
     "text": [
      "No handles with labels found to put in legend.\n"
     ]
    },
    {
     "data": {
      "image/png": "[encoded data removed]",
      "text/plain": [
       "<Figure size 432x288 with 1 Axes>"
      ]
     },
     "metadata": {
      "needs_background": "light"
     },
     "output_type": "display_data"
    },
    {
     "data": {
      "text/plain": [
       "<Figure size 432x288 with 0 Axes>"
      ]
     },
     "metadata": {},
     "output_type": "display_data"
    },
    {
     "data": {
      "image/png": "[encoded data removed]",
      "text/plain": [
       "<Figure size 432x288 with 1 Axes>"
      ]
     },
     "metadata": {
      "needs_background": "light"
     },
     "output_type": "display_data"
    }
   ],
   "source": [
    "# Scatter plot of some data\n",
    "df_out.plot.bar()\n",
    "\n",
    "# Try to plot something\n",
    "plt.figure()\n",
    "df_out.plot.scatter(x=\"step_length\", y=\"speed\")\n",
    "plt.legend(loc='best')\n",
    "plt.show()\n",
    "\n",
    "# Plot delta_df results\n",
    "# ws.plot_delta_t(df_out.loc['sharkID'].delta_t, cutoff)\n",
    "\n",
    "# TODO: Fix plotting function for delta_t, currently not plotting by individual\n",
    "\n",
    "\n",
    "\n"
   ]
  },
  {
   "cell_type": "code",
   "execution_count": null,
   "metadata": {},
   "outputs": [],
   "source": []
  }
 ],
 "metadata": {
  "kernelspec": {
   "display_name": "datashark",
   "language": "python",
   "name": "datashark"
  },
  "language_info": {
   "codemirror_mode": {
    "name": "ipython",
    "version": 3
   },
   "file_extension": ".py",
   "mimetype": "text/x-python",
   "name": "python",
   "nbconvert_exporter": "python",
   "pygments_lexer": "ipython3",
   "version": "3.7.7"
  },
  "pycharm": {
   "stem_cell": {
    "cell_type": "raw",
    "metadata": {
     "collapsed": false
    },
    "source": []
   }
  }
 },
 "nbformat": 4,
 "nbformat_minor": 1
}
