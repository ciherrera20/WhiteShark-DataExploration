{
 "cells": [
  {
   "cell_type": "markdown",
   "metadata": {},
   "source": [
    "<h1>Plotting White Shark Data</h1>"
   ]
  },
  {
   "cell_type": "code",
   "execution_count": null,
   "metadata": {},
   "outputs": [],
   "source": [
    "import pandas as pd\n",
    "import geopandas as gpd\n",
    "from geopandas import GeoDataFrame, read_file\n",
    "from shapely.geometry import Point, LineString, Polygon\n",
    "from datetime import datetime, timedelta\n",
    "import movingpandas as mpd\n",
    "import contextily as ctx\n",
    "import numpy as np\n",
    "import matplotlib\n",
    "import matplotlib.pyplot as plt\n",
    "from matplotlib.animation import FuncAnimation\n",
    "from IPython.display import HTML\n",
    "from pyproj import CRS\n",
    "from keplergl import KeplerGl\n",
    "\n",
    "# Import some helper functions from another file\n",
    "%load_ext autoreload\n",
    "%aimport plotting_helpers\n",
    "from plotting_helpers import *\n",
    "\n",
    "# Set matplotlib max animation size\n",
    "matplotlib.rcParams['animation.embed_limit'] = 2**128"
   ]
  },
  {
   "cell_type": "markdown",
   "metadata": {},
   "source": [
    "<h3>1. Load data from CSV files</h3>"
   ]
  },
  {
   "cell_type": "code",
   "execution_count": null,
   "metadata": {},
   "outputs": [],
   "source": [
    "# Load receiver array positions\n",
    "receivers_gdf = pd.read_csv('../data/VPS-Station-Locations.csv')\n",
    "receivers_gdf = gpd.GeoDataFrame(receivers_gdf[['Station']], geometry=gpd.points_from_xy(receivers_gdf.Lng, receivers_gdf.Lat))\n",
    "receivers_gdf = receivers_gdf.set_crs('EPSG:4326')"
   ]
  },
  {
   "cell_type": "code",
   "execution_count": null,
   "metadata": {},
   "outputs": [],
   "source": [
    "# Compute bounds and width and height of receiver array\n",
    "point = receivers_gdf['geometry'][0]\n",
    "max_lon, max_lat = point.coords[0]\n",
    "min_lon, min_lat = point.coords[0]\n",
    "for index, row in receivers_gdf.iterrows():\n",
    "    lon, lat = row['geometry'].coords[0]\n",
    "    max_lon = max(max_lon, lon)\n",
    "    max_lat = max(max_lat, lat)\n",
    "    min_lon = min(min_lon, lon)\n",
    "    min_lat = min(min_lat, lat)\n",
    "bounds_gdf = gpd.GeoDataFrame([[Point(min_lon, min_lat)], [Point(max_lon, max_lat)]], geometry='geometry', crs={'init': 'epsg:4326'}, columns=['geometry'])\n",
    "aeqd = CRS(proj='aeqd', ellps='WGS84', datum='WGS84', lat_0=min_lat, lon_0=min_lon).srs\n",
    "bounds_gdf = bounds_gdf.to_crs(crs=aeqd)\n",
    "\n",
    "width, height = bounds_gdf['geometry'][1].coords[0]\n",
    "print('Width of receiver array is', width, 'meters and height is', height, 'meters.')"
   ]
  },
  {
   "cell_type": "code",
   "execution_count": null,
   "metadata": {},
   "outputs": [],
   "source": [
    "# Set the filename\n",
    "filename = '../data/SharkArray-2020-05-21.csv'\n",
    "\n",
    "# Load shark positions data into a GeoDataFrame\n",
    "shark_gdf = pd.read_csv(filename)\n",
    "shark_gdf['t'] = pd.to_datetime(shark_gdf['DATETIME'])\n",
    "shark_gdf = gpd.GeoDataFrame(shark_gdf[['TRANSMITTER', 't']], geometry=gpd.points_from_xy(shark_gdf.LON, shark_gdf.LAT))\n",
    "shark_gdf = shark_gdf.set_crs('EPSG:4326')\n",
    "shark_gdf = shark_gdf.set_index('t').tz_localize(None)"
   ]
  },
  {
   "cell_type": "code",
   "execution_count": null,
   "metadata": {},
   "outputs": [],
   "source": [
    "shark_gdf['TRANSMITTER'].unique()"
   ]
  },
  {
   "cell_type": "code",
   "execution_count": null,
   "metadata": {},
   "outputs": [],
   "source": [
    "print('The dataset contains', shark_gdf.shape[0], 'rows and', shark_gdf.shape[1], 'columns.')\n",
    "print('The column names are:', list(shark_gdf.columns.values))"
   ]
  },
  {
   "cell_type": "markdown",
   "metadata": {},
   "source": [
    "<h3>2. Create moving pandas trajectories from the shark position data</h3>"
   ]
  },
  {
   "cell_type": "code",
   "execution_count": null,
   "metadata": {},
   "outputs": [],
   "source": [
    "# Create separate trajectories for each shark based on their transmitter ID\n",
    "traj_collection = mpd.TrajectoryCollection(shark_gdf, 'TRANSMITTER')\n",
    "print(traj_collection)"
   ]
  },
  {
   "cell_type": "code",
   "execution_count": null,
   "metadata": {
    "scrolled": true
   },
   "outputs": [],
   "source": [
    "# Retrieve shark 2020-20's trajectory\n",
    "traj = traj_collection.filter('TRANSMITTER', ['2020-20']).trajectories[0]\n",
    "print(\"Trajectory duration is\", traj.get_duration())\n",
    "print(\"Num points is\", traj.df.shape[0])\n",
    "# traj.plot(column='speed', linewidth=5, capstyle='round', figsize=(9, 5), legend=True)"
   ]
  },
  {
   "cell_type": "code",
   "execution_count": null,
   "metadata": {},
   "outputs": [],
   "source": [
    "# Split shark trajectory by observation gap\n",
    "day_trajs = mpd.TemporalSplitter(traj).split(mode='day')\n",
    "print(day_trajs)"
   ]
  },
  {
   "cell_type": "code",
   "execution_count": null,
   "metadata": {},
   "outputs": [],
   "source": [
    "# Retrieve trajectory from a single day\n",
    "day_traj = day_trajs.trajectories[0]\n",
    "print(\"Num points is\", day_traj.df.shape[0])\n",
    "day_traj.plot(column='speed', linewidth=5, capstyle='round', figsize=(9, 5), legend=True)\n",
    "plt.title(start_to_end(day_traj))"
   ]
  },
  {
   "cell_type": "code",
   "execution_count": null,
   "metadata": {},
   "outputs": [],
   "source": [
    "# Split the day trajectory by gaps in observation of more than 15 minutes\n",
    "obs_gap_trajs = mpd.ObservationGapSplitter(day_traj).split(gap=timedelta(minutes=15))\n",
    "plot_trajs(obs_gap_trajs, legend=True, rep_traj=day_traj, padding=3, figsize=(9, 9), receivers=receivers_gdf)"
   ]
  },
  {
   "cell_type": "code",
   "execution_count": null,
   "metadata": {},
   "outputs": [],
   "source": [
    "# Split the day trajectory by stops of more than a minute in a diameter of 10 meters\n",
    "stop_trajs = mpd.StopSplitter(day_traj).split(max_diameter=10, min_duration=timedelta(seconds=60))\n",
    "plot_trajs(stop_trajs, title='Trajectories split by stops within 10 meters for 1 minute or more', legend=True, rep_traj=day_traj, padding=1.3, figsize=(9, 9), receivers=receivers_gdf)"
   ]
  },
  {
   "cell_type": "markdown",
   "metadata": {},
   "source": [
    "<h3>3. Start animating trajectories</h3>"
   ]
  },
  {
   "cell_type": "code",
   "execution_count": null,
   "metadata": {},
   "outputs": [],
   "source": [
    "# Animate the day trajectory\n",
    "ani = animate_trajectories([day_traj], num_frames=100, interval=100, padding=1.4, rep_traj=day_traj, receivers=receivers_gdf)\n",
    "HTML(ani.to_jshtml())"
   ]
  },
  {
   "cell_type": "code",
   "execution_count": null,
   "metadata": {},
   "outputs": [],
   "source": [
    "# ani.save('./animations/shark_2020-20_day_2020_5_21_receivers.gif', fps=10)"
   ]
  },
  {
   "cell_type": "code",
   "execution_count": null,
   "metadata": {},
   "outputs": [],
   "source": [
    "# Split the trajectories of all sharks by day\n",
    "day_trajs_dict = {}\n",
    "\n",
    "for traj in traj_collection.trajectories:\n",
    "    idx = traj.df['TRANSMITTER'][0]\n",
    "    day_trajs_dict[idx] = mpd.TemporalSplitter(traj).split(mode='day')"
   ]
  },
  {
   "cell_type": "code",
   "execution_count": null,
   "metadata": {},
   "outputs": [],
   "source": [
    "# Extract the trajectories of all sharks on 1 day\n",
    "day_trajs_5_21 = []\n",
    "start_day = datetime(2020, 5, 21, 0, 0, 0)\n",
    "delta = timedelta(days=1)\n",
    "\n",
    "for _, d in day_trajs_dict.items():\n",
    "    day_trajs_5_21 += filter_traj_col(d, start_day, start_day + delta).trajectories\n",
    "day_trajs_5_21 = mpd.TrajectoryCollection(day_trajs_5_21[:10])"
   ]
  },
  {
   "cell_type": "code",
   "execution_count": null,
   "metadata": {},
   "outputs": [],
   "source": [
    "# Animate the day trajectories\n",
    "ani = animate_trajectories(day_trajs_5_21.trajectories, num_frames=100, interval=100, padding=4, rep_traj=day_traj, receivers=receivers_gdf)\n",
    "HTML(ani.to_jshtml())"
   ]
  },
  {
   "cell_type": "code",
   "execution_count": null,
   "metadata": {},
   "outputs": [],
   "source": [
    "# ani.save('./animations/all_sharks_day_2020_5_21_receivers.gif', fps=10)"
   ]
  },
  {
   "cell_type": "markdown",
   "metadata": {},
   "source": [
    "<h3>4. Interactive visualization with KeplerGl</h3>"
   ]
  },
  {
   "cell_type": "code",
   "execution_count": null,
   "metadata": {},
   "outputs": [],
   "source": [
    "# Put all trajectories in a single GeoDataFrame\n",
    "data = []\n",
    "for traj in day_trajs_5_21.trajectories:\n",
    "    for i, (timestamp, row) in zip(range(traj.df.shape[0]), traj.df.iterrows()):\n",
    "        if i == 0:\n",
    "            continue\n",
    "        point = row['geometry']\n",
    "        prev_point = traj.df['geometry'][i - 1]\n",
    "        x, y = point.coords[0]\n",
    "        prev_x, prev_y = prev_point.coords[0]\n",
    "        data.append([str(timestamp), x, y, prev_x, prev_y, row['TRANSMITTER'], point])\n",
    "trajectories_gdf = gpd.GeoDataFrame(data, columns=['t', 'lon', 'lat', 'prev_lon', 'prev_lat', 'TRANSMITTER', 'geometry'])"
   ]
  },
  {
   "cell_type": "code",
   "execution_count": null,
   "metadata": {},
   "outputs": [],
   "source": [
    "# Create KeplerGl instance and add data\n",
    "m = KeplerGl(height=600)\n",
    "m.add_data(receivers_gdf.copy(), 'receivers')\n",
    "m.add_data(trajectories_gdf.copy(), 'trajectories')"
   ]
  },
  {
   "cell_type": "code",
   "execution_count": null,
   "metadata": {},
   "outputs": [],
   "source": [
    "# Analyze trajectories\n",
    "day_trajs_5_21_agg = mpd.TrajectoryCollectionAggregator(day_trajs_5_21, width * 0.1, width * 0.01, timedelta(seconds=3600))"
   ]
  },
  {
   "cell_type": "code",
   "execution_count": null,
   "metadata": {},
   "outputs": [],
   "source": [
    "# Extract significant points from trajectory aggregation\n",
    "significant_points_gdf = day_trajs_5_21_agg.get_significant_points_gdf()\n",
    "significant_points_gdf['lon'] = [point.coords[0][0] for point in significant_points_gdf['geometry']]\n",
    "significant_points_gdf['lat'] = [point.coords[0][1] for point in significant_points_gdf['geometry']]"
   ]
  },
  {
   "cell_type": "code",
   "execution_count": null,
   "metadata": {},
   "outputs": [],
   "source": [
    "m.add_data(significant_points_gdf.copy(), 'significant points')\n",
    "m.add_data(day_trajs_5_21_agg.get_clusters_gdf().copy(), 'clusters')\n",
    "m.add_data(day_trajs_5_21_agg.get_flows_gdf().copy(), 'flows')"
   ]
  },
  {
   "cell_type": "code",
   "execution_count": null,
   "metadata": {},
   "outputs": [],
   "source": [
    "config = { \"version\": \"v1\", \"config\": { \"visState\": { \"filters\": [ { \"dataId\": [ \"trajectories\" ], \"id\": \"ohkb0fv1t\", \"name\": [ \"t\" ], \"type\": \"timeRange\", \"value\": [ 1590019380000, 1590020996999.9995 ], \"enlarged\": False, \"plotType\": \"histogram\", \"animationWindow\": \"free\", \"yAxis\": None }, { \"dataId\": [ \"interpolated\" ], \"id\": \"kv35ggm5\", \"name\": [ \"t\" ], \"type\": \"timeRange\", \"value\": [ 1590019631700, 1590022037700 ], \"enlarged\": True, \"plotType\": \"histogram\", \"animationWindow\": \"free\", \"yAxis\": None } ], \"layers\": [ { \"id\": \"ww1rpim\", \"type\": \"geojson\", \"config\": { \"dataId\": \"receivers\", \"label\": \"receivers\", \"color\": [ 82, 151, 218 ], \"columns\": { \"geojson\": \"geometry\" }, \"isVisible\": True, \"visConfig\": { \"opacity\": 0.8, \"strokeOpacity\": 0.8, \"thickness\": 0.5, \"strokeColor\": None, \"colorRange\": { \"name\": \"Global Warming\", \"type\": \"sequential\", \"category\": \"Uber\", \"colors\": [ \"#5A1846\", \"#900C3F\", \"#C70039\", \"#E3611C\", \"#F1920E\", \"#FFC300\" ] }, \"strokeColorRange\": { \"name\": \"Global Warming\", \"type\": \"sequential\", \"category\": \"Uber\", \"colors\": [ \"#5A1846\", \"#900C3F\", \"#C70039\", \"#E3611C\", \"#F1920E\", \"#FFC300\" ] }, \"radius\": 20, \"sizeRange\": [ 0, 10 ], \"radiusRange\": [ 0, 50 ], \"heightRange\": [ 0, 500 ], \"elevationScale\": 5, \"stroked\": False, \"filled\": True, \"enable3d\": False, \"wireframe\": False }, \"hidden\": False, \"textLabel\": [ { \"field\": None, \"color\": [ 255, 255, 255 ], \"size\": 18, \"offset\": [ 0, 0 ], \"anchor\": \"start\", \"alignment\": \"center\" } ] }, \"visualChannels\": { \"colorField\": None, \"colorScale\": \"quantile\", \"sizeField\": None, \"sizeScale\": \"linear\", \"strokeColorField\": None, \"strokeColorScale\": \"quantile\", \"heightField\": None, \"heightScale\": \"linear\", \"radiusField\": None, \"radiusScale\": \"linear\" } }, { \"id\": \"9q6dt4\", \"type\": \"point\", \"config\": { \"dataId\": \"interpolated\", \"label\": \"interpolated positions\", \"color\": [ 231, 159, 213 ], \"columns\": { \"lat\": \"lat\", \"lng\": \"lon\", \"altitude\": None }, \"isVisible\": True, \"visConfig\": { \"radius\": 10, \"fixedRadius\": False, \"opacity\": 0.8, \"outline\": False, \"thickness\": 2, \"strokeColor\": None, \"colorRange\": { \"name\": \"UberPool 6\", \"type\": \"diverging\", \"category\": \"Uber\", \"colors\": [ \"#213E9A\", \"#551EAD\", \"#C019BD\", \"#D31256\", \"#E6470A\", \"#F9E200\" ] }, \"strokeColorRange\": { \"name\": \"Global Warming\", \"type\": \"sequential\", \"category\": \"Uber\", \"colors\": [ \"#5A1846\", \"#900C3F\", \"#C70039\", \"#E3611C\", \"#F1920E\", \"#FFC300\" ] }, \"radiusRange\": [ 0, 50 ], \"filled\": True }, \"hidden\": False, \"textLabel\": [ { \"field\": None, \"color\": [ 255, 255, 255 ], \"size\": 18, \"offset\": [ 0, 0 ], \"anchor\": \"start\", \"alignment\": \"center\" } ] }, \"visualChannels\": { \"colorField\": { \"name\": \"TRANSMITTER\", \"type\": \"string\" }, \"colorScale\": \"ordinal\", \"strokeColorField\": None, \"strokeColorScale\": \"quantile\", \"sizeField\": None, \"sizeScale\": \"linear\" } }, { \"id\": \"br14m9a\", \"type\": \"line\", \"config\": { \"dataId\": \"interpolated\", \"label\": \"interpolated trajectories\", \"color\": [ 221, 178, 124 ], \"columns\": { \"lat0\": \"prev_lat\", \"lng0\": \"prev_lon\", \"lat1\": \"lat\", \"lng1\": \"lon\" }, \"isVisible\": True, \"visConfig\": { \"opacity\": 0.8, \"thickness\": 2, \"colorRange\": { \"name\": \"UberPool 6\", \"type\": \"diverging\", \"category\": \"Uber\", \"colors\": [ \"#213E9A\", \"#551EAD\", \"#C019BD\", \"#D31256\", \"#E6470A\", \"#F9E200\" ] }, \"sizeRange\": [ 0, 10 ], \"targetColor\": None }, \"hidden\": False, \"textLabel\": [ { \"field\": None, \"color\": [ 255, 255, 255 ], \"size\": 18, \"offset\": [ 0, 0 ], \"anchor\": \"start\", \"alignment\": \"center\" } ] }, \"visualChannels\": { \"colorField\": { \"name\": \"TRANSMITTER\", \"type\": \"string\" }, \"colorScale\": \"ordinal\", \"sizeField\": None, \"sizeScale\": \"linear\" } }, { \"id\": \"hi24zxj\", \"type\": \"point\", \"config\": { \"dataId\": \"trajectories\", \"label\": \"positions\", \"color\": [ 77, 193, 156 ], \"columns\": { \"lat\": \"lat\", \"lng\": \"lon\", \"altitude\": None }, \"isVisible\": False, \"visConfig\": { \"radius\": 10, \"fixedRadius\": False, \"opacity\": 0.8, \"outline\": False, \"thickness\": 2, \"strokeColor\": None, \"colorRange\": { \"name\": \"UberPool 6\", \"type\": \"diverging\", \"category\": \"Uber\", \"colors\": [ \"#213E9A\", \"#551EAD\", \"#C019BD\", \"#D31256\", \"#E6470A\", \"#F9E200\" ] }, \"strokeColorRange\": { \"name\": \"Global Warming\", \"type\": \"sequential\", \"category\": \"Uber\", \"colors\": [ \"#5A1846\", \"#900C3F\", \"#C70039\", \"#E3611C\", \"#F1920E\", \"#FFC300\" ] }, \"radiusRange\": [ 0, 50 ], \"filled\": True }, \"hidden\": False, \"textLabel\": [ { \"field\": None, \"color\": [ 255, 255, 255 ], \"size\": 18, \"offset\": [ 0, 0 ], \"anchor\": \"start\", \"alignment\": \"center\" } ] }, \"visualChannels\": { \"colorField\": { \"name\": \"TRANSMITTER\", \"type\": \"string\" }, \"colorScale\": \"ordinal\", \"strokeColorField\": None, \"strokeColorScale\": \"quantile\", \"sizeField\": None, \"sizeScale\": \"linear\" } }, { \"id\": \"xwnxp1e\", \"type\": \"line\", \"config\": { \"dataId\": \"trajectories\", \"label\": \"trajectories\", \"color\": [ 18, 147, 154 ], \"columns\": { \"lat0\": \"prev_lat\", \"lng0\": \"prev_lon\", \"lat1\": \"lat\", \"lng1\": \"lon\" }, \"isVisible\": False, \"visConfig\": { \"opacity\": 0.8, \"thickness\": 2, \"colorRange\": { \"name\": \"UberPool 6\", \"type\": \"diverging\", \"category\": \"Uber\", \"colors\": [ \"#213E9A\", \"#551EAD\", \"#C019BD\", \"#D31256\", \"#E6470A\", \"#F9E200\" ] }, \"sizeRange\": [ 0, 10 ], \"targetColor\": None }, \"hidden\": False, \"textLabel\": [ { \"field\": None, \"color\": [ 255, 255, 255 ], \"size\": 18, \"offset\": [ 0, 0 ], \"anchor\": \"start\", \"alignment\": \"center\" } ] }, \"visualChannels\": { \"colorField\": { \"name\": \"TRANSMITTER\", \"type\": \"string\" }, \"colorScale\": \"ordinal\", \"sizeField\": None, \"sizeScale\": \"linear\" } }, { \"id\": \"47vime\", \"type\": \"geojson\", \"config\": { \"dataId\": \"clusters\", \"label\": \"clusters\", \"color\": [ 98, 64, 37 ], \"columns\": { \"geojson\": \"geometry\" }, \"isVisible\": False, \"visConfig\": { \"opacity\": 0.39, \"strokeOpacity\": 0.8, \"thickness\": 0.5, \"strokeColor\": None, \"colorRange\": { \"name\": \"Global Warming\", \"type\": \"sequential\", \"category\": \"Uber\", \"colors\": [ \"#5A1846\", \"#900C3F\", \"#C70039\", \"#E3611C\", \"#F1920E\", \"#FFC300\" ] }, \"strokeColorRange\": { \"name\": \"Global Warming\", \"type\": \"sequential\", \"category\": \"Uber\", \"colors\": [ \"#5A1846\", \"#900C3F\", \"#C70039\", \"#E3611C\", \"#F1920E\", \"#FFC300\" ] }, \"radius\": 10, \"sizeRange\": [ 0, 10 ], \"radiusRange\": [ 10, 50 ], \"heightRange\": [ 0, 500 ], \"elevationScale\": 5, \"stroked\": False, \"filled\": True, \"enable3d\": False, \"wireframe\": False }, \"hidden\": False, \"textLabel\": [ { \"field\": None, \"color\": [ 255, 255, 255 ], \"size\": 18, \"offset\": [ 0, 0 ], \"anchor\": \"start\", \"alignment\": \"center\" } ] }, \"visualChannels\": { \"colorField\": None, \"colorScale\": \"quantile\", \"sizeField\": None, \"sizeScale\": \"linear\", \"strokeColorField\": None, \"strokeColorScale\": \"quantile\", \"heightField\": None, \"heightScale\": \"linear\", \"radiusField\": { \"name\": \"n\", \"type\": \"integer\" }, \"radiusScale\": \"sqrt\" } }, { \"id\": \"s1u7u4c\", \"type\": \"geojson\", \"config\": { \"dataId\": \"significant points\", \"label\": \"significant points\", \"color\": [ 95, 95, 95 ], \"columns\": { \"geojson\": \"geometry\" }, \"isVisible\": False, \"visConfig\": { \"opacity\": 0.8, \"strokeOpacity\": 0.8, \"thickness\": 0.5, \"strokeColor\": None, \"colorRange\": { \"name\": \"Global Warming\", \"type\": \"sequential\", \"category\": \"Uber\", \"colors\": [ \"#5A1846\", \"#900C3F\", \"#C70039\", \"#E3611C\", \"#F1920E\", \"#FFC300\" ] }, \"strokeColorRange\": { \"name\": \"Global Warming\", \"type\": \"sequential\", \"category\": \"Uber\", \"colors\": [ \"#5A1846\", \"#900C3F\", \"#C70039\", \"#E3611C\", \"#F1920E\", \"#FFC300\" ] }, \"radius\": 5, \"sizeRange\": [ 0, 10 ], \"radiusRange\": [ 0, 50 ], \"heightRange\": [ 0, 500 ], \"elevationScale\": 5, \"stroked\": False, \"filled\": True, \"enable3d\": False, \"wireframe\": False }, \"hidden\": False, \"textLabel\": [ { \"field\": None, \"color\": [ 255, 255, 255 ], \"size\": 18, \"offset\": [ 0, 0 ], \"anchor\": \"start\", \"alignment\": \"center\" } ] }, \"visualChannels\": { \"colorField\": None, \"colorScale\": \"quantile\", \"sizeField\": None, \"sizeScale\": \"linear\", \"strokeColorField\": None, \"strokeColorScale\": \"quantile\", \"heightField\": None, \"heightScale\": \"linear\", \"radiusField\": None, \"radiusScale\": \"linear\" } }, { \"id\": \"jtc1j9\", \"type\": \"heatmap\", \"config\": { \"dataId\": \"significant points\", \"label\": \"significant points heatmap\", \"color\": [ 30, 150, 190 ], \"columns\": { \"lat\": \"lat\", \"lng\": \"lon\" }, \"isVisible\": False, \"visConfig\": { \"opacity\": 0.8, \"colorRange\": { \"name\": \"Uber Viz Diverging 1.5\", \"type\": \"diverging\", \"category\": \"Uber\", \"colors\": [ \"#00939C\", \"#5DBABF\", \"#BAE1E2\", \"#F8C0AA\", \"#DD7755\", \"#C22E00\" ] }, \"radius\": 10 }, \"hidden\": False, \"textLabel\": [ { \"field\": None, \"color\": [ 255, 255, 255 ], \"size\": 18, \"offset\": [ 0, 0 ], \"anchor\": \"start\", \"alignment\": \"center\" } ] }, \"visualChannels\": { \"weightField\": None, \"weightScale\": \"linear\" } }, { \"id\": \"t1tmqux\", \"type\": \"geojson\", \"config\": { \"dataId\": \"flows\", \"label\": \"flows\", \"color\": [ 23, 184, 190 ], \"columns\": { \"geojson\": \"geometry\" }, \"isVisible\": False, \"visConfig\": { \"opacity\": 0.8, \"strokeOpacity\": 0.5, \"thickness\": 2, \"strokeColor\": [ 136, 106, 83 ], \"colorRange\": { \"name\": \"Global Warming\", \"type\": \"sequential\", \"category\": \"Uber\", \"colors\": [ \"#5A1846\", \"#900C3F\", \"#C70039\", \"#E3611C\", \"#F1920E\", \"#FFC300\" ] }, \"strokeColorRange\": { \"name\": \"Uber Viz Qualitative 1.2\", \"type\": \"qualitative\", \"category\": \"Uber\", \"colors\": [ \"#12939A\", \"#DDB27C\", \"#88572C\", \"#FF991F\", \"#F15C17\", \"#223F9A\" ] }, \"radius\": 10, \"sizeRange\": [ 0, 2.5 ], \"radiusRange\": [ 0, 50 ], \"heightRange\": [ 0, 500 ], \"elevationScale\": 5, \"stroked\": True, \"filled\": True, \"enable3d\": False, \"wireframe\": False }, \"hidden\": False, \"textLabel\": [ { \"field\": None, \"color\": [ 255, 255, 255 ], \"size\": 18, \"offset\": [ 0, 0 ], \"anchor\": \"start\", \"alignment\": \"center\" } ] }, \"visualChannels\": { \"colorField\": None, \"colorScale\": \"quantile\", \"sizeField\": { \"name\": \"weight\", \"type\": \"integer\" }, \"sizeScale\": \"linear\", \"strokeColorField\": None, \"strokeColorScale\": \"quantile\", \"heightField\": None, \"heightScale\": \"linear\", \"radiusField\": None, \"radiusScale\": \"linear\" } } ], \"interactionConfig\": { \"tooltip\": { \"fieldsToShow\": { \"receivers\": [ { \"name\": \"Station\", \"format\": None } ], \"trajectories\": [ { \"name\": \"TRANSMITTER\", \"format\": None } ], \"significant points\": [], \"clusters\": [ { \"name\": \"n\", \"format\": None } ], \"flows\": [ { \"name\": \"weight\", \"format\": None } ], \"interpolated\": [ { \"name\": \"t\", \"format\": None }, { \"name\": \"TRANSMITTER\", \"format\": None } ] }, \"compareMode\": False, \"compareType\": \"absolute\", \"enabled\": True }, \"brush\": { \"size\": 0.3, \"enabled\": False }, \"geocoder\": { \"enabled\": False }, \"coordinate\": { \"enabled\": False } }, \"layerBlending\": \"normal\", \"splitMaps\": [], \"animationConfig\": { \"currentTime\": None, \"speed\": 1 } }, \"mapState\": { \"bearing\": 0, \"dragRotate\": False, \"latitude\": 34.39688367038405, \"longitude\": -119.54227767815335, \"pitch\": 0, \"zoom\": 13.306293407643501, \"isSplit\": False }, \"mapStyle\": { \"styleType\": \"dark\", \"topLayerGroups\": {}, \"visibleLayerGroups\": { \"label\": True, \"road\": True, \"border\": False, \"building\": True, \"water\": True, \"land\": True, \"3d building\": False }, \"threeDBuildingColor\": [ 9.665468314072013, 17.18305478057247, 31.1442867897876 ], \"mapStyles\": {} } } }"
   ]
  },
  {
   "cell_type": "code",
   "execution_count": null,
   "metadata": {},
   "outputs": [],
   "source": [
    "m.save_to_html(file_name='index.html', config=config)"
   ]
  },
  {
   "cell_type": "code",
   "execution_count": null,
   "metadata": {},
   "outputs": [],
   "source": [
    "# Create some interpolated trajectories of the day trajectories\n",
    "start_time = min([traj.get_start_time() for traj in day_trajs_5_21.trajectories])\n",
    "end_time = max([traj.get_end_time() for traj in day_trajs_5_21.trajectories])\n",
    "num_points = 200\n",
    "delta = (end_time - start_time) / num_points\n",
    "\n",
    "data = []\n",
    "for traj in day_trajs_5_21.trajectories:\n",
    "    transmitter = traj.id.split('_')[0]\n",
    "    point_dict = {}\n",
    "    for i in range(1, num_points):\n",
    "        prev_frame_time = start_time + (delta * (i - 1))\n",
    "        frame_time = start_time + (delta * i)\n",
    "        if traj_contains_time(traj, prev_frame_time) and traj_contains_time(traj, frame_time):\n",
    "            # Retreive interpolated point\n",
    "            point = traj.get_position_at(frame_time, method='interpolated')\n",
    "            point_dict[frame_time] = point\n",
    "            x, y = point.coords[0]\n",
    "            \n",
    "            # Retrieve previous interpolated point\n",
    "            if prev_frame_time not in point_dict:\n",
    "                prev_point = traj.get_position_at(frame_time, method='interpolated')\n",
    "                point_dict[prev_frame_time] = prev_point\n",
    "            else:\n",
    "                prev_point = point_dict[prev_frame_time]\n",
    "            prev_x, prev_y = prev_point.coords[0]\n",
    "            \n",
    "            # Append data\n",
    "            data.append([str(frame_time), x, y, prev_x, prev_y, transmitter, point])\n",
    "interpolated_gdf = gpd.GeoDataFrame(data, columns=['t', 'lon', 'lat', 'prev_lon', 'prev_lat', 'TRANSMITTER', 'geometry'])\n",
    "interpolated_gdf.head()"
   ]
  },
  {
   "cell_type": "code",
   "execution_count": null,
   "metadata": {},
   "outputs": [],
   "source": [
    "m.add_data(interpolated_gdf.copy(), 'interpolated')"
   ]
  },
  {
   "cell_type": "code",
   "execution_count": null,
   "metadata": {},
   "outputs": [],
   "source": [
    "df = pd.DataFrame([[Point(0, 0)], [Point(1, 1)]], columns=['p'])"
   ]
  }
 ],
 "metadata": {
  "kernelspec": {
   "display_name": "shark-research_project",
   "language": "python",
   "name": "shark-research_project"
  },
  "language_info": {
   "codemirror_mode": {
    "name": "ipython",
    "version": 3
   },
   "file_extension": ".py",
   "mimetype": "text/x-python",
   "name": "python",
   "nbconvert_exporter": "python",
   "pygments_lexer": "ipython3",
   "version": "3.9.4"
  }
 },
 "nbformat": 4,
 "nbformat_minor": 4
}
