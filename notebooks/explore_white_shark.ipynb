{
 "cells": [
  {
   "cell_type": "markdown",
   "metadata": {
    "collapsed": true,
    "pycharm": {
     "name": "#%% md\n"
    }
   },
   "source": [
    "# Explore White Shark Data\n",
    "This notebook will guide your exploration of a white shark dataset. "
   ]
  },
  {
   "cell_type": "markdown",
   "metadata": {
    "pycharm": {
     "name": "#%% md\n"
    }
   },
   "source": [
    "## Load modules and set filename"
   ]
  },
  {
   "cell_type": "code",
   "execution_count": 5,
   "metadata": {
    "pycharm": {
     "is_executing": false,
     "name": "#%%\n"
    }
   },
   "outputs": [],
   "source": [
    "import white_shark as ws\n",
    "import numpy as np\n",
    "import pandas as pd\n",
    "from matplotlib import pyplot as plt\n",
    "\n",
    "import geopandas as gpd\n",
    "from shapely.geometry import Point\n",
    "%matplotlib inline\n",
    "\n",
    "from shapely.geometry import Polygon\n",
    "\n",
    "# Set the filename\n",
    "# filename = '../data/subset-calc-pos.csv'\n",
    "filename = '../data/SharkArray-01-animals.csv'"
   ]
  },
  {
   "cell_type": "markdown",
   "metadata": {},
   "source": [
    "## Convert CSV to DataFrame"
   ]
  },
  {
   "cell_type": "code",
   "execution_count": 6,
   "metadata": {
    "pycharm": {
     "is_executing": false,
     "name": "#%%\n"
    }
   },
   "outputs": [],
   "source": [
    "# Call make_df from the main white_shark (ws) file\n",
    "shark = ws.make_df(filename)"
   ]
  },
  {
   "cell_type": "markdown",
   "metadata": {
    "pycharm": {
     "is_executing": false,
     "name": "#%% md\n"
    }
   },
   "source": [
    "# Meet the data\n",
    "\n",
    "Note the difference in the following commands and their output"
   ]
  },
  {
   "cell_type": "code",
   "execution_count": 7,
   "metadata": {
    "pycharm": {
     "is_executing": false,
     "name": "#%%\n"
    }
   },
   "outputs": [
    {
     "name": "stdout",
     "output_type": "stream",
     "text": [
      "The dataset contains 124684 rows and 17 columns.\n",
      "The column names are: ['Unnamed: 0', 'TRANSMITTER', 'DETECTEDID', 'DATETIME', 'X', 'Y', 'D', 'LAT', 'LON', 'n', 'HPE', 'HPEm', 'TEMP', 'DEPTH', 'ACCEL', 'DRX', 'URX']\n"
     ]
    }
   ],
   "source": [
    "print('The dataset contains', shark.shape[0], 'rows and', shark.shape[1], 'columns.')\n",
    "print('The column names are:', list(shark.columns.values))\n",
    "    \n",
    "# Use 'iloc[]' to select row '0', (does not count header as a row)\n",
    "# print(shark.iloc[0])\n",
    "\n",
    "# Use slicing to get the first row (prints header names also)\n",
    "# print(shark[:1])"
   ]
  },
  {
   "cell_type": "markdown",
   "metadata": {},
   "source": [
    "## Show first few rows of dataframe"
   ]
  },
  {
   "cell_type": "code",
   "execution_count": 8,
   "metadata": {},
   "outputs": [
    {
     "data": {
      "text/html": [
       "<div>\n",
       "<style scoped>\n",
       "    .dataframe tbody tr th:only-of-type {\n",
       "        vertical-align: middle;\n",
       "    }\n",
       "\n",
       "    .dataframe tbody tr th {\n",
       "        vertical-align: top;\n",
       "    }\n",
       "\n",
       "    .dataframe thead th {\n",
       "        text-align: right;\n",
       "    }\n",
       "</style>\n",
       "<table border=\"1\" class=\"dataframe\">\n",
       "  <thead>\n",
       "    <tr style=\"text-align: right;\">\n",
       "      <th></th>\n",
       "      <th>Unnamed: 0</th>\n",
       "      <th>TRANSMITTER</th>\n",
       "      <th>DETECTEDID</th>\n",
       "      <th>DATETIME</th>\n",
       "      <th>X</th>\n",
       "      <th>Y</th>\n",
       "      <th>D</th>\n",
       "      <th>LAT</th>\n",
       "      <th>LON</th>\n",
       "      <th>n</th>\n",
       "      <th>HPE</th>\n",
       "      <th>HPEm</th>\n",
       "      <th>TEMP</th>\n",
       "      <th>DEPTH</th>\n",
       "      <th>ACCEL</th>\n",
       "      <th>DRX</th>\n",
       "      <th>URX</th>\n",
       "    </tr>\n",
       "  </thead>\n",
       "  <tbody>\n",
       "    <tr>\n",
       "      <th>0</th>\n",
       "      <td>0</td>\n",
       "      <td>2020-21</td>\n",
       "      <td>A69-9006-7849</td>\n",
       "      <td>2020-05-21 16:55:00</td>\n",
       "      <td>3430.49</td>\n",
       "      <td>6278.67</td>\n",
       "      <td>-0.607</td>\n",
       "      <td>34.410615</td>\n",
       "      <td>-119.566279</td>\n",
       "      <td>3</td>\n",
       "      <td>3.8</td>\n",
       "      <td>NaN</td>\n",
       "      <td>NaN</td>\n",
       "      <td>-0.6065</td>\n",
       "      <td>NaN</td>\n",
       "      <td>In_A Off_A Off_B OS1</td>\n",
       "      <td>In_A Off_A Off_B OS1</td>\n",
       "    </tr>\n",
       "    <tr>\n",
       "      <th>1</th>\n",
       "      <td>1</td>\n",
       "      <td>2020-20</td>\n",
       "      <td>A69-9006-7853</td>\n",
       "      <td>2020-05-21 19:05:00</td>\n",
       "      <td>4241.98</td>\n",
       "      <td>6283.36</td>\n",
       "      <td>-0.607</td>\n",
       "      <td>34.410658</td>\n",
       "      <td>-119.557453</td>\n",
       "      <td>1</td>\n",
       "      <td>7.5</td>\n",
       "      <td>NaN</td>\n",
       "      <td>NaN</td>\n",
       "      <td>-0.6065</td>\n",
       "      <td>NaN</td>\n",
       "      <td>In_B In_C Off_C</td>\n",
       "      <td>In_B In_C Off_C</td>\n",
       "    </tr>\n",
       "    <tr>\n",
       "      <th>2</th>\n",
       "      <td>2</td>\n",
       "      <td>2020-20</td>\n",
       "      <td>A69-9006-7853</td>\n",
       "      <td>2020-05-21 19:10:00</td>\n",
       "      <td>4322.56</td>\n",
       "      <td>6222.52</td>\n",
       "      <td>-0.607</td>\n",
       "      <td>34.410109</td>\n",
       "      <td>-119.556576</td>\n",
       "      <td>6</td>\n",
       "      <td>3.6</td>\n",
       "      <td>NaN</td>\n",
       "      <td>NaN</td>\n",
       "      <td>-0.6065</td>\n",
       "      <td>NaN</td>\n",
       "      <td>In_B In_C Off_B Off_C OS1</td>\n",
       "      <td>In_B In_C Off_B Off_C OS1</td>\n",
       "    </tr>\n",
       "    <tr>\n",
       "      <th>3</th>\n",
       "      <td>3</td>\n",
       "      <td>2020-20</td>\n",
       "      <td>A69-9006-7853</td>\n",
       "      <td>2020-05-21 19:14:00</td>\n",
       "      <td>4211.33</td>\n",
       "      <td>6306.68</td>\n",
       "      <td>-0.607</td>\n",
       "      <td>34.410868</td>\n",
       "      <td>-119.557786</td>\n",
       "      <td>4</td>\n",
       "      <td>4.1</td>\n",
       "      <td>NaN</td>\n",
       "      <td>NaN</td>\n",
       "      <td>-0.6065</td>\n",
       "      <td>NaN</td>\n",
       "      <td>In_B In_C Off_B Off_C OS1</td>\n",
       "      <td>In_C Off_B Off_C OS1</td>\n",
       "    </tr>\n",
       "    <tr>\n",
       "      <th>4</th>\n",
       "      <td>4</td>\n",
       "      <td>2020-20</td>\n",
       "      <td>A69-9006-7853</td>\n",
       "      <td>2020-05-21 19:32:00</td>\n",
       "      <td>3886.61</td>\n",
       "      <td>6385.11</td>\n",
       "      <td>-0.607</td>\n",
       "      <td>34.411575</td>\n",
       "      <td>-119.561318</td>\n",
       "      <td>4</td>\n",
       "      <td>3.2</td>\n",
       "      <td>NaN</td>\n",
       "      <td>NaN</td>\n",
       "      <td>-0.6065</td>\n",
       "      <td>NaN</td>\n",
       "      <td>In_A In_B Off_A Off_B OS1</td>\n",
       "      <td>In_A In_B Off_A Off_B</td>\n",
       "    </tr>\n",
       "  </tbody>\n",
       "</table>\n",
       "</div>"
      ],
      "text/plain": [
       "   Unnamed: 0 TRANSMITTER     DETECTEDID            DATETIME        X  \\\n",
       "0           0     2020-21  A69-9006-7849 2020-05-21 16:55:00  3430.49   \n",
       "1           1     2020-20  A69-9006-7853 2020-05-21 19:05:00  4241.98   \n",
       "2           2     2020-20  A69-9006-7853 2020-05-21 19:10:00  4322.56   \n",
       "3           3     2020-20  A69-9006-7853 2020-05-21 19:14:00  4211.33   \n",
       "4           4     2020-20  A69-9006-7853 2020-05-21 19:32:00  3886.61   \n",
       "\n",
       "         Y      D        LAT         LON  n  HPE  HPEm  TEMP   DEPTH  ACCEL  \\\n",
       "0  6278.67 -0.607  34.410615 -119.566279  3  3.8   NaN   NaN -0.6065    NaN   \n",
       "1  6283.36 -0.607  34.410658 -119.557453  1  7.5   NaN   NaN -0.6065    NaN   \n",
       "2  6222.52 -0.607  34.410109 -119.556576  6  3.6   NaN   NaN -0.6065    NaN   \n",
       "3  6306.68 -0.607  34.410868 -119.557786  4  4.1   NaN   NaN -0.6065    NaN   \n",
       "4  6385.11 -0.607  34.411575 -119.561318  4  3.2   NaN   NaN -0.6065    NaN   \n",
       "\n",
       "                         DRX                        URX  \n",
       "0       In_A Off_A Off_B OS1       In_A Off_A Off_B OS1  \n",
       "1            In_B In_C Off_C            In_B In_C Off_C  \n",
       "2  In_B In_C Off_B Off_C OS1  In_B In_C Off_B Off_C OS1  \n",
       "3  In_B In_C Off_B Off_C OS1       In_C Off_B Off_C OS1  \n",
       "4  In_A In_B Off_A Off_B OS1      In_A In_B Off_A Off_B  "
      ]
     },
     "execution_count": 8,
     "metadata": {},
     "output_type": "execute_result"
    }
   ],
   "source": [
    "shark.head()"
   ]
  },
  {
   "cell_type": "markdown",
   "metadata": {},
   "source": [
    "# Initial data exploration\n",
    "\n",
    "Here we'll use a few basic techniques to explore the data we just imported "
   ]
  },
  {
   "cell_type": "code",
   "execution_count": 9,
   "metadata": {},
   "outputs": [
    {
     "name": "stdout",
     "output_type": "stream",
     "text": [
      "2020-20      16666\n",
      "2020-12      14406\n",
      "2020-21      13476\n",
      "2020-32       9536\n",
      "2020-19       9482\n",
      "2020-17       8965\n",
      "2020-16       8404\n",
      "2020-10       7920\n",
      "2020-15       7636\n",
      "2020-22       6224\n",
      "2020-13       4750\n",
      "2020-36       4677\n",
      "2020-33       4428\n",
      "2020-35_2     3980\n",
      "2020-34       1980\n",
      "2020-31        949\n",
      "2020-40        534\n",
      "2020-35        222\n",
      "2020-04        184\n",
      "2020-41        166\n",
      "2020-42         62\n",
      "2020-37         37\n",
      "Name: TRANSMITTER, dtype: int64\n"
     ]
    }
   ],
   "source": [
    "# Count number of times each shark was observed  \n",
    "tag_counts = shark[\"TRANSMITTER\"].value_counts()\n",
    "print(tag_counts)"
   ]
  },
  {
   "cell_type": "code",
   "execution_count": null,
   "metadata": {},
   "outputs": [],
   "source": [
    "# Shark observation frequency, nearly same as above, but normalized to total observations   \n",
    "# setting normalize=True\n",
    "tag_frequency = shark[\"TRANSMITTER\"].value_counts(normalize=True)\n",
    "print(tag_frequency)\n",
    "\n",
    "type(tag_frequency)"
   ]
  },
  {
   "cell_type": "markdown",
   "metadata": {},
   "source": [
    "## Use the describe() method to get summary statistics\n",
    "\n",
    "The describe() method will operate on numerical columns of our shark dataframe. \n",
    "\n",
    "The output contains things like count, mean, max, etc..\n",
    "\n",
    "This will be more useful once we do our own calculations (e.g., speed) using the data. "
   ]
  },
  {
   "cell_type": "code",
   "execution_count": 10,
   "metadata": {},
   "outputs": [
    {
     "data": {
      "text/html": [
       "<div>\n",
       "<style scoped>\n",
       "    .dataframe tbody tr th:only-of-type {\n",
       "        vertical-align: middle;\n",
       "    }\n",
       "\n",
       "    .dataframe tbody tr th {\n",
       "        vertical-align: top;\n",
       "    }\n",
       "\n",
       "    .dataframe thead th {\n",
       "        text-align: right;\n",
       "    }\n",
       "</style>\n",
       "<table border=\"1\" class=\"dataframe\">\n",
       "  <thead>\n",
       "    <tr style=\"text-align: right;\">\n",
       "      <th></th>\n",
       "      <th>Unnamed: 0</th>\n",
       "      <th>X</th>\n",
       "      <th>Y</th>\n",
       "      <th>D</th>\n",
       "      <th>LAT</th>\n",
       "      <th>LON</th>\n",
       "      <th>n</th>\n",
       "      <th>HPE</th>\n",
       "      <th>HPEm</th>\n",
       "      <th>TEMP</th>\n",
       "      <th>DEPTH</th>\n",
       "      <th>ACCEL</th>\n",
       "    </tr>\n",
       "  </thead>\n",
       "  <tbody>\n",
       "    <tr>\n",
       "      <th>count</th>\n",
       "      <td>124684.000000</td>\n",
       "      <td>124684.000000</td>\n",
       "      <td>124684.000000</td>\n",
       "      <td>124684.000000</td>\n",
       "      <td>124684.000000</td>\n",
       "      <td>124684.000000</td>\n",
       "      <td>124684.000000</td>\n",
       "      <td>124684.000000</td>\n",
       "      <td>0.0</td>\n",
       "      <td>0.0</td>\n",
       "      <td>54537.000000</td>\n",
       "      <td>0.0</td>\n",
       "    </tr>\n",
       "    <tr>\n",
       "      <th>mean</th>\n",
       "      <td>79896.614570</td>\n",
       "      <td>4641.871748</td>\n",
       "      <td>5595.081319</td>\n",
       "      <td>3.109180</td>\n",
       "      <td>34.404453</td>\n",
       "      <td>-119.553103</td>\n",
       "      <td>3.557024</td>\n",
       "      <td>9.371628</td>\n",
       "      <td>NaN</td>\n",
       "      <td>NaN</td>\n",
       "      <td>0.677253</td>\n",
       "      <td>NaN</td>\n",
       "    </tr>\n",
       "    <tr>\n",
       "      <th>std</th>\n",
       "      <td>55391.173885</td>\n",
       "      <td>610.868532</td>\n",
       "      <td>591.561829</td>\n",
       "      <td>2.463625</td>\n",
       "      <td>0.005333</td>\n",
       "      <td>0.006644</td>\n",
       "      <td>3.432894</td>\n",
       "      <td>820.805030</td>\n",
       "      <td>NaN</td>\n",
       "      <td>NaN</td>\n",
       "      <td>1.833588</td>\n",
       "      <td>NaN</td>\n",
       "    </tr>\n",
       "    <tr>\n",
       "      <th>min</th>\n",
       "      <td>0.000000</td>\n",
       "      <td>2905.610000</td>\n",
       "      <td>3947.610000</td>\n",
       "      <td>-0.607000</td>\n",
       "      <td>34.389601</td>\n",
       "      <td>-119.571988</td>\n",
       "      <td>1.000000</td>\n",
       "      <td>2.300000</td>\n",
       "      <td>NaN</td>\n",
       "      <td>NaN</td>\n",
       "      <td>-0.606500</td>\n",
       "      <td>NaN</td>\n",
       "    </tr>\n",
       "    <tr>\n",
       "      <th>25%</th>\n",
       "      <td>31170.750000</td>\n",
       "      <td>4172.502500</td>\n",
       "      <td>5098.167500</td>\n",
       "      <td>0.000000</td>\n",
       "      <td>34.399974</td>\n",
       "      <td>-119.558208</td>\n",
       "      <td>1.000000</td>\n",
       "      <td>2.800000</td>\n",
       "      <td>NaN</td>\n",
       "      <td>NaN</td>\n",
       "      <td>-0.606500</td>\n",
       "      <td>NaN</td>\n",
       "    </tr>\n",
       "    <tr>\n",
       "      <th>50%</th>\n",
       "      <td>68021.500000</td>\n",
       "      <td>4684.815000</td>\n",
       "      <td>5595.235000</td>\n",
       "      <td>5.000000</td>\n",
       "      <td>34.404455</td>\n",
       "      <td>-119.552636</td>\n",
       "      <td>2.000000</td>\n",
       "      <td>3.500000</td>\n",
       "      <td>NaN</td>\n",
       "      <td>NaN</td>\n",
       "      <td>-0.303300</td>\n",
       "      <td>NaN</td>\n",
       "    </tr>\n",
       "    <tr>\n",
       "      <th>75%</th>\n",
       "      <td>130486.250000</td>\n",
       "      <td>5128.080000</td>\n",
       "      <td>6107.775000</td>\n",
       "      <td>5.000000</td>\n",
       "      <td>34.409075</td>\n",
       "      <td>-119.547815</td>\n",
       "      <td>4.000000</td>\n",
       "      <td>4.700000</td>\n",
       "      <td>NaN</td>\n",
       "      <td>NaN</td>\n",
       "      <td>1.364300</td>\n",
       "      <td>NaN</td>\n",
       "    </tr>\n",
       "    <tr>\n",
       "      <th>max</th>\n",
       "      <td>182971.000000</td>\n",
       "      <td>6858.930000</td>\n",
       "      <td>6695.840000</td>\n",
       "      <td>10.764000</td>\n",
       "      <td>34.414376</td>\n",
       "      <td>-119.528993</td>\n",
       "      <td>20.000000</td>\n",
       "      <td>271908.600000</td>\n",
       "      <td>NaN</td>\n",
       "      <td>NaN</td>\n",
       "      <td>10.763500</td>\n",
       "      <td>NaN</td>\n",
       "    </tr>\n",
       "  </tbody>\n",
       "</table>\n",
       "</div>"
      ],
      "text/plain": [
       "          Unnamed: 0              X              Y              D  \\\n",
       "count  124684.000000  124684.000000  124684.000000  124684.000000   \n",
       "mean    79896.614570    4641.871748    5595.081319       3.109180   \n",
       "std     55391.173885     610.868532     591.561829       2.463625   \n",
       "min         0.000000    2905.610000    3947.610000      -0.607000   \n",
       "25%     31170.750000    4172.502500    5098.167500       0.000000   \n",
       "50%     68021.500000    4684.815000    5595.235000       5.000000   \n",
       "75%    130486.250000    5128.080000    6107.775000       5.000000   \n",
       "max    182971.000000    6858.930000    6695.840000      10.764000   \n",
       "\n",
       "                 LAT            LON              n            HPE  HPEm  TEMP  \\\n",
       "count  124684.000000  124684.000000  124684.000000  124684.000000   0.0   0.0   \n",
       "mean       34.404453    -119.553103       3.557024       9.371628   NaN   NaN   \n",
       "std         0.005333       0.006644       3.432894     820.805030   NaN   NaN   \n",
       "min        34.389601    -119.571988       1.000000       2.300000   NaN   NaN   \n",
       "25%        34.399974    -119.558208       1.000000       2.800000   NaN   NaN   \n",
       "50%        34.404455    -119.552636       2.000000       3.500000   NaN   NaN   \n",
       "75%        34.409075    -119.547815       4.000000       4.700000   NaN   NaN   \n",
       "max        34.414376    -119.528993      20.000000  271908.600000   NaN   NaN   \n",
       "\n",
       "              DEPTH  ACCEL  \n",
       "count  54537.000000    0.0  \n",
       "mean       0.677253    NaN  \n",
       "std        1.833588    NaN  \n",
       "min       -0.606500    NaN  \n",
       "25%       -0.606500    NaN  \n",
       "50%       -0.303300    NaN  \n",
       "75%        1.364300    NaN  \n",
       "max       10.763500    NaN  "
      ]
     },
     "execution_count": 10,
     "metadata": {},
     "output_type": "execute_result"
    }
   ],
   "source": [
    "shark.describe()"
   ]
  },
  {
   "cell_type": "markdown",
   "metadata": {},
   "source": [
    "## Plot a histogram of the frequency data"
   ]
  },
  {
   "cell_type": "code",
   "execution_count": null,
   "metadata": {},
   "outputs": [],
   "source": [
    "# Create a dataframe from the frequency data\n",
    "df1 = tag_frequency.to_frame()\n",
    "\n",
    "ax1 = df1.plot.bar()\n",
    "ax1.set_xlabel(\"Shark ID\", labelpad=20, weight='bold', size=12)\n",
    "ax1.set_ylabel(\"Observation Frequency\", labelpad=20, weight='bold', size=12)\n"
   ]
  },
  {
   "cell_type": "markdown",
   "metadata": {},
   "source": [
    "# Plot some time series data\n",
    "Here you'll manipulate the data frame to extract all the data \n",
    "for an individual shark and plot it using pyplot (plt). "
   ]
  },
  {
   "cell_type": "code",
   "execution_count": null,
   "metadata": {
    "pycharm": {
     "is_executing": false,
     "name": "#%%\n"
    }
   },
   "outputs": [],
   "source": [
    "# Use logical indexing to extract all data for a specific animal (coded by TRANSMITTER field)\n",
    "shark20 = shark[shark.TRANSMITTER == '2020-20']\n",
    "# shark20\n",
    "\n",
    "# Plot the shark's x-position through time\n",
    "plt.plot(shark20.DATETIME, shark20.X)\n",
    "plt.plot(shark20.DATETIME, shark20.Y)\n",
    "plt.legend(['X-position', 'Y-position'])\n",
    "plt.xlabel('time')\n",
    "plt.ylabel('position (m)')\n",
    "plt.show()\n",
    "\n",
    "# Plot all of the x-y position data points\n",
    "plt.plot(shark20.X, shark20.Y, '.-')\n",
    "\n",
    "# Overlay the points that used less than 3 receiver triangles\n",
    "plt.plot(shark20[shark20.n < 3].X, shark20[shark20.n < 3].Y, '*')\n",
    "\n",
    "plt.xlabel('X-position (m)')\n",
    "plt.ylabel('Y-position (m)')\n",
    "plt.show()\n"
   ]
  },
  {
   "cell_type": "markdown",
   "metadata": {
    "pycharm": {
     "is_executing": false,
     "name": "#%%\n"
    }
   },
   "source": [
    "# Convert DataFrame to GeoDataFrame\n",
    "## From Longitude/Latitude\n",
    "\n",
    "In order to overlay our shark data on a map, we first have to convert the regular dataframe to a GeoDataFrame "
   ]
  },
  {
   "cell_type": "code",
   "execution_count": null,
   "metadata": {},
   "outputs": [],
   "source": [
    "# Note: There's extra stuff we don't really need, so we'll create a subset of the original shark dataframe\n",
    "sub_shark = shark[[\"TRANSMITTER\", \"DATETIME\", \"LAT\", \"LON\", \"n\", \"HPE\"]]\n",
    "\n",
    "# Convert to GeoDataFrame, set geometry from LON/LAT columns\n",
    "gshark = gpd.GeoDataFrame(sub_shark,\n",
    "    geometry=gpd.points_from_xy(sub_shark.LON, sub_shark.LAT))\n",
    "\n",
    "gshark.head()"
   ]
  },
  {
   "cell_type": "markdown",
   "metadata": {},
   "source": [
    "# Contextily for Mapping\n",
    "\n",
    "We'll use a package called contextily to generate a basemap for plotting our shark data. \n",
    "\n",
    "The package can be installed within your conda environment with the command:\n",
    "**conda install contextily** "
   ]
  },
  {
   "cell_type": "code",
   "execution_count": null,
   "metadata": {},
   "outputs": [],
   "source": [
    "import contextily as ctx"
   ]
  },
  {
   "cell_type": "code",
   "execution_count": null,
   "metadata": {},
   "outputs": [],
   "source": [
    "# Look at map Providers that can be accessed with ctx\n",
    "ctx.providers.keys()"
   ]
  },
  {
   "cell_type": "code",
   "execution_count": null,
   "metadata": {},
   "outputs": [],
   "source": [
    "# Some providers have additional keys for specific map types\n",
    "ctx.providers.Stamen.keys()"
   ]
  },
  {
   "cell_type": "markdown",
   "metadata": {},
   "source": [
    "### Specify bounding box of coordinates \n",
    "\n",
    "If we know the bounds of the region we'd like to map, for example the field site where shark data was collected, we can download tiles for creating our map of the area."
   ]
  },
  {
   "cell_type": "code",
   "execution_count": null,
   "metadata": {},
   "outputs": [],
   "source": [
    "# Bounding box for Santa Barbara field site, rough estimate\n",
    "west, south, east, north = (-119.6, 34.35, -119.5, 34.45)\n",
    "\n",
    "# Download tiles using bound2img\n",
    "sb_img, sb_ext = ctx.bounds2img(west, south, east, north,\n",
    "                                ll=True,\n",
    "                                source=ctx.providers.Stamen.Terrain)"
   ]
  },
  {
   "cell_type": "markdown",
   "metadata": {},
   "source": [
    "### Render the map"
   ]
  },
  {
   "cell_type": "code",
   "execution_count": null,
   "metadata": {},
   "outputs": [],
   "source": [
    "f, ax_sb = plt.subplots(1, figsize=(9, 9))\n",
    "ax_sb.imshow(sb_img, extent=sb_ext)"
   ]
  },
  {
   "cell_type": "code",
   "execution_count": null,
   "metadata": {},
   "outputs": [],
   "source": [
    "# Manually set CRS for shark data\n",
    "gshark = gshark.set_crs(\"EPSG:4326\")\n",
    "\n",
    "# Extract each shark's data for plotting individually\n",
    "shark19 = gshark[gshark.TRANSMITTER == '2020-19']\n",
    "shark20 = gshark[gshark.TRANSMITTER == '2020-20']\n",
    "shark21 = gshark[gshark.TRANSMITTER == '2020-21']\n",
    "\n",
    "type(shark21)"
   ]
  },
  {
   "cell_type": "code",
   "execution_count": null,
   "metadata": {
    "scrolled": false
   },
   "outputs": [],
   "source": [
    "# Set more accurate bounds for plotting\n",
    "west2, south2, east2, north2 = (-119.58, 34.39, -119.535, 34.425)\n",
    "\n",
    "# Set x and y limit, based on updated bounds\n",
    "xlim = ([west2, east2])\n",
    "ylim = ([south2,  north2])\n",
    "\n",
    "# Use the plot() method to plot the points of one shark\n",
    "ax_shark = shark20.plot(figsize=(10, 10), alpha=0.5, edgecolor='k')\n",
    "\n",
    "# On the same axis, plot the other shark's points\n",
    "shark19.plot(ax=ax_shark, alpha=0.5, edgecolor='k')\n",
    "shark21.plot(ax=ax_shark, alpha=0.5, edgecolor='k')\n",
    "\n",
    "# Set axes limits\n",
    "ax_shark.set_xlim(xlim)\n",
    "ax_shark.set_ylim(ylim)\n",
    "\n",
    "# Add a basemap \n",
    "ctx.add_basemap(ax_shark, \n",
    "                crs=gshark.crs.to_string(),\n",
    "                source=ctx.providers.Stamen.Terrain)\n",
    "\n",
    "# Add a legend and axis labels\n",
    "ax_shark.legend([\"shark20\", \"shark19\", \"shark21\"])\n",
    "ax_shark.set_ylabel(\"Latitude\")\n",
    "ax_shark.set_xlabel(\"Longitude\")\n",
    "ax_shark.set_title(\"White Shark Positions during 24h\")"
   ]
  },
  {
   "cell_type": "markdown",
   "metadata": {},
   "source": [
    "#### Note\n",
    "We can get a more accurate bounding box by looking\n",
    "at the min/max of the **LON/LAT** columns of the \n",
    "*shark.describe()* output but we also want to pad these values \n",
    "to get a better sense of where the coastline is.\n",
    "\n",
    "There also appears to be a limit to how small the region can be. \n",
    "This is probably due to the way the map sources create tiles. \n",
    "\n",
    "The example above has the smallest bounding box I could set before generating an error. \n",
    "Different map Providers may have smaller/larger tiles. \n",
    "It should be possible to get a map of a slightly larger area than we need, save the map as an image file, and then only show the (smaller) region when we plot."
   ]
  },
  {
   "cell_type": "markdown",
   "metadata": {},
   "source": [
    "## Extra \n",
    "The lines of code below are just extra things I started playing with. "
   ]
  },
  {
   "cell_type": "code",
   "execution_count": null,
   "metadata": {},
   "outputs": [],
   "source": [
    "# Get map of some location using Contextily's Place() method\n",
    "loc = ctx.Place(\"Claremont, CA\", zoom_adjust=0)  # zoom_adjust modifies the auto-zoom\n",
    "\n",
    "# Print some map metadata\n",
    "for attr in [\"w\", \"s\", \"e\", \"n\", \"place\", \"zoom\", \"n_tiles\"]:\n",
    "    print(\"{}: {}\".format(attr, getattr(loc, attr)))\n",
    "\n",
    "# Create a subplot figure object with axes=\"axs\"\n",
    "fig, axs = plt.subplots(1, 3, figsize=(15, 5))\n",
    "\n",
    "# Plot the map \"loc\" in axis 0\n",
    "ctx.plot_map(loc, ax=axs[0])"
   ]
  },
  {
   "cell_type": "code",
   "execution_count": null,
   "metadata": {},
   "outputs": [],
   "source": [
    "# Set the source Provider\n",
    "nightlights = ctx.providers.NASAGIBS.ViirsEarthAtNight2012\n",
    "\n",
    "# Use the Place() method and the Provider we set above to get a map of California\n",
    "CA_lights = ctx.Place(\"California\", source=nightlights)"
   ]
  },
  {
   "cell_type": "code",
   "execution_count": null,
   "metadata": {},
   "outputs": [],
   "source": [
    "CA_lights.plot()"
   ]
  },
  {
   "cell_type": "code",
   "execution_count": 13,
   "metadata": {},
   "outputs": [
    {
     "data": {
      "text/plain": [
       "Timedelta('105 days 21:24:00')"
      ]
     },
     "execution_count": 13,
     "metadata": {},
     "output_type": "execute_result"
    }
   ],
   "source": [
    "shark['DATETIME'][len(shark)-1] - shark['DATETIME'][0]"
   ]
  },
  {
   "cell_type": "code",
   "execution_count": null,
   "metadata": {},
   "outputs": [],
   "source": []
  }
 ],
 "metadata": {
  "kernelspec": {
   "display_name": "Python 3",
   "language": "python",
   "name": "python3"
  },
  "language_info": {
   "codemirror_mode": {
    "name": "ipython",
    "version": 3
   },
   "file_extension": ".py",
   "mimetype": "text/x-python",
   "name": "python",
   "nbconvert_exporter": "python",
   "pygments_lexer": "ipython3",
   "version": "3.9.4"
  },
  "pycharm": {
   "stem_cell": {
    "cell_type": "raw",
    "metadata": {
     "collapsed": false
    },
    "source": []
   }
  },
  "vscode": {
   "interpreter": {
    "hash": "75863267d84321a8b6e511cdd587f81c4f11c86b54734aeec3d508a9a8dbaafc"
   }
  }
 },
 "nbformat": 4,
 "nbformat_minor": 1
}
